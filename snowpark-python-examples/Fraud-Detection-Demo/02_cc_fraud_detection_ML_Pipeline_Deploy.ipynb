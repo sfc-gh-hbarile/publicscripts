{
 "cells": [
  {
   "cell_type": "markdown",
   "id": "b054537d",
   "metadata": {},
   "source": [
    "# StyleMeUp - Fraud Detection in Online Retail "
   ]
  },
  {
   "cell_type": "markdown",
   "id": "bab1305c",
   "metadata": {},
   "source": [
    "### Data Science Model training, Pipeline, Deploy and serving"
   ]
  },
  {
   "cell_type": "markdown",
   "id": "34258750-3cb8-4226-a028-cc868fc1a3d5",
   "metadata": {},
   "source": [
    "### In this notebook we will use the data enriched and prepared by our data engineers using the IPINFO dataset. \n",
    "##### We will follow following steps -\n",
    "\n",
    "1. use snowpark python to connect with snowflake\n",
    "2. get training dataset\n",
    "3. feature visualization\n",
    "4. Check feature importance\n",
    "5. split training dataset into train and test\n",
    "6. setup transformations\n",
    "7. setup classifier\n",
    "8. build ML Pipeline\n",
    "9. train and test the model\n",
    "10. check model accuracy\n",
    "11. deploy model as Python UDF in snowflake\n",
    "\n",
    "#### Finally, Use model deployed in Snowflake to score and predict data saved in snowflake\n",
    "\n",
    "\n",
    "#### Let's get started by including snowpark python library. We will be using the latest 0.2.0 version for this demo\n"
   ]
  },
  {
   "cell_type": "code",
   "execution_count": 1,
   "id": "d950bc0b-0c22-4eb5-988c-a6c34f675d9c",
   "metadata": {},
   "outputs": [
    {
     "name": "stdout",
     "output_type": "stream",
     "text": [
      "Snowflake snowpark version is : (0, 2, 0, None)\n"
     ]
    }
   ],
   "source": [
    "from snowflake.snowpark.session import Session\n",
    "from snowflake.snowpark.functions import udf\n",
    "from snowflake.snowpark.types import IntegerType, FloatType, StringType, BooleanType\n",
    "\n",
    "from matplotlib_venn import venn2\n",
    "from config import snowfalke_conn_prop\n",
    "\n",
    "import matplotlib.pyplot as plt\n",
    "import numpy as np\n",
    "import pandas as pd\n",
    "\n",
    "from snowflake.snowpark import version\n",
    "print(f\"Snowflake snowpark version is : {version.VERSION}\")"
   ]
  },
  {
   "cell_type": "markdown",
   "id": "acca2c1a-b93d-4019-b925-a664051a9d7c",
   "metadata": {},
   "source": [
    "#### Create a session to connect with snowflake"
   ]
  },
  {
   "cell_type": "code",
   "execution_count": 2,
   "id": "2daddfac-ddb2-4140-b371-81a3f25ba26d",
   "metadata": {
    "scrolled": true,
    "tags": []
   },
   "outputs": [
    {
     "name": "stdout",
     "output_type": "stream",
     "text": [
      "[Row(status='FRAUDDEMO already exists, statement succeeded.')]\n",
      "[Row(status='Statement executed successfully.')]\n",
      "[Row(CURRENT_WAREHOUSE()='LAB_L_WH', CURRENT_DATABASE()='DEMO', CURRENT_SCHEMA()='FRAUDDEMO')]\n"
     ]
    }
   ],
   "source": [
    "from snowflake.snowpark.session import Session\n",
    "from config import snowfalke_conn_prop\n",
    "\n",
    "session = Session.builder.configs(snowfalke_conn_prop).create()\n",
    "print(session.sql('create schema if not exists frauddemo').collect())\n",
    "print(session.sql('use schema frauddemo').collect())\n",
    "print(session.sql('select current_warehouse(), current_database(), current_schema()').collect())"
   ]
  },
  {
   "cell_type": "code",
   "execution_count": 3,
   "id": "b54014c9-8ab2-490b-94e9-4323c9f2d8fd",
   "metadata": {},
   "outputs": [],
   "source": [
    "train_dataset = session.table('enriched_data').sample(n = 20000)\n",
    "df = train_dataset.toPandas()"
   ]
  },
  {
   "cell_type": "markdown",
   "id": "333e2c12-9de5-4f20-9bd7-5f902add7712",
   "metadata": {},
   "source": [
    "## Data Exploration\n",
    "### Masked IP feature visualization"
   ]
  },
  {
   "cell_type": "code",
   "execution_count": 4,
   "id": "976a6857-99e3-49e3-b4b4-fc6734b460a2",
   "metadata": {},
   "outputs": [
    {
     "data": {
      "image/png": "[encoded data removed]",
      "text/plain": [
       "<Figure size 432x288 with 1 Axes>"
      ]
     },
     "metadata": {},
     "output_type": "display_data"
    }
   ],
   "source": [
    "venn2(subsets = (len(df.loc[df['ISFRAUD'] == 1]), \n",
    "                 len(df.loc[df['IS_MASKED'] == 1]), \n",
    "                 len(df.loc[(df['ISFRAUD'] == 1) & (df['IS_MASKED'] == 1)])),\n",
    "      set_labels = ('Fraud', 'Masked IP', 'Fraud & Masked IP'))\n",
    "plt.show()"
   ]
  },
  {
   "cell_type": "markdown",
   "id": "9d2c4e6b-97c6-4a7a-ab24-5a001e4ea37d",
   "metadata": {},
   "source": [
    "## Training fraud detection model"
   ]
  },
  {
   "cell_type": "markdown",
   "id": "b908493d-6999-4e68-bc60-734c6e0e71a3",
   "metadata": {},
   "source": [
    "### Preparing training data"
   ]
  },
  {
   "cell_type": "code",
   "execution_count": 5,
   "id": "c1ec303d",
   "metadata": {},
   "outputs": [],
   "source": [
    "features = ['CITY', 'SHIPPING_ZIPCODE', 'SHIPPING_STATE', 'PAYMENT_NETWORK', 'PAYMENT_TYPE', \n",
    "            'IS_MASKED', 'AVG_PRICE_PER_ITEM', 'TOTAL_TRNX_AMOUNT', 'IP_TO_SHIPPING_DISTANCE']\n",
    "encoded_features = ['CITY', 'SHIPPING_ZIPCODE', 'SHIPPING_STATE', 'PAYMENT_NETWORK', 'PAYMENT_TYPE','IS_MASKED']\n",
    "\n",
    "num_feature_fill_na = ['IP_TO_SHIPPING_DISTANCE']\n"
   ]
  },
  {
   "cell_type": "code",
   "execution_count": 6,
   "id": "f1400d96",
   "metadata": {},
   "outputs": [],
   "source": [
    "# get data into dataframe\n",
    "data = session.table('enriched_data').sample(n = 10000)\n",
    "df = pd.DataFrame(data.toPandas())"
   ]
  },
  {
   "cell_type": "code",
   "execution_count": 7,
   "id": "30872caf",
   "metadata": {},
   "outputs": [
    {
     "data": {
      "text/plain": [
       "Pipeline(steps=[('pipeline-1',\n",
       "                 Pipeline(steps=[('functiontransformer',\n",
       "                                  FunctionTransformer(func=<function <lambda> at 0x7f14d1b73550>)),\n",
       "                                 ('ordinalencoder',\n",
       "                                  OrdinalEncoder(handle_unknown='use_encoded_value',\n",
       "                                                 unknown_value=-1))])),\n",
       "                ('pipeline-2',\n",
       "                 Pipeline(steps=[('simpleimputer',\n",
       "                                  SimpleImputer(fill_value=0,\n",
       "                                                strategy='constant')),\n",
       "                                 ('minmaxscaler', MinMaxScaler())])),\n",
       "                ('pipeline-3',\n",
       "                 Pipeline(steps=[('randomforestclassifier',\n",
       "                                  RandomForestClassifier(n_jobs=-1,\n",
       "                                                         random_state=0))]))])"
      ]
     },
     "execution_count": 7,
     "metadata": {},
     "output_type": "execute_result"
    }
   ],
   "source": [
    "# setup pipeline\n",
    "\n",
    "#transformations\n",
    "from sklearn.preprocessing import OrdinalEncoder\n",
    "from sklearn.impute import SimpleImputer\n",
    "from sklearn.preprocessing import MinMaxScaler\n",
    "from sklearn.preprocessing import FunctionTransformer\n",
    "\n",
    "#Classifier\n",
    "from sklearn.ensemble import RandomForestClassifier\n",
    "\n",
    "#Pipeline\n",
    "from sklearn.pipeline import make_pipeline\n",
    "from sklearn.model_selection import train_test_split\n",
    "\n",
    "#Model Accuracy\n",
    "from sklearn.metrics import balanced_accuracy_score\n",
    "\n",
    "# split train and test\n",
    "X = df[features]\n",
    "y = df['ISFRAUD'] == True\n",
    "weights = (y==0).sum()/(1.0 *  (y==1).sum())\n",
    "\n",
    "X_train, X_test, y_train, y_test = train_test_split(X, y,random_state=0)\n",
    "\n",
    "\n",
    "# Model Pipeline\n",
    "ord_pipe = make_pipeline(\n",
    "    FunctionTransformer(lambda x: x.astype(str)),\n",
    "    OrdinalEncoder(handle_unknown='use_encoded_value', unknown_value=-1)\n",
    "    )\n",
    "\n",
    "num_pipe = make_pipeline(\n",
    "    SimpleImputer(missing_values=np.nan, strategy='constant', fill_value=0),\n",
    "    MinMaxScaler()\n",
    "    )\n",
    "\n",
    "clf = make_pipeline(RandomForestClassifier(random_state=0, n_jobs=-1))\n",
    "\n",
    "model = make_pipeline(ord_pipe, num_pipe, clf)\n",
    "\n",
    "# fit the model\n",
    "model.fit(X_train, y_train)\n"
   ]
  },
  {
   "cell_type": "markdown",
   "id": "2d2a6d36",
   "metadata": {},
   "source": [
    "#### Check Model balacne accuracy"
   ]
  },
  {
   "cell_type": "code",
   "execution_count": 8,
   "id": "24cc4957",
   "metadata": {},
   "outputs": [
    {
     "name": "stdout",
     "output_type": "stream",
     "text": [
      "Model testing completed.\n",
      "   - Model Balanced Accuracy: 100.00%\n"
     ]
    }
   ],
   "source": [
    "#Check Accuracy of our model on test dataset\n",
    "y_pred = model.predict_proba(X_test)[:,1]\n",
    "predictions = [round(value) for value in y_pred]\n",
    "balanced_accuracy = balanced_accuracy_score(y_test, predictions)\n",
    "print(\"Model testing completed.\\n   - Model Balanced Accuracy: %.2f%%\" % (balanced_accuracy * 100.0))"
   ]
  },
  {
   "cell_type": "markdown",
   "id": "20d5a876",
   "metadata": {},
   "source": [
    "#### Check confusion matrix"
   ]
  },
  {
   "cell_type": "code",
   "execution_count": 9,
   "id": "ec640fdc",
   "metadata": {},
   "outputs": [
    {
     "name": "stdout",
     "output_type": "stream",
     "text": [
      "True Positive(TP)  =  230\n",
      "False Positive(FP) =  0\n",
      "True Negative(TN)  =  2270\n",
      "False Negative(FN) =  0\n",
      "Accuracy of the classification = 1.000\n"
     ]
    }
   ],
   "source": [
    "#Confusion Matrix\n",
    "\n",
    "from sklearn.metrics import confusion_matrix\n",
    "\n",
    "cm = confusion_matrix(y_test, predictions)\n",
    "\n",
    "TN, FP, FN, TP = confusion_matrix(y_test, predictions).ravel()\n",
    "\n",
    "print('True Positive(TP)  = ', TP)\n",
    "print('False Positive(FP) = ', FP)\n",
    "print('True Negative(TN)  = ', TN)\n",
    "print('False Negative(FN) = ', FN)\n",
    "\n",
    "accuracy =  (TP+TN) /(TP+FP+TN+FN)\n",
    "\n",
    "print('Accuracy of the classification = {:0.3f}'.format(accuracy))"
   ]
  },
  {
   "cell_type": "code",
   "execution_count": 10,
   "id": "15b6af49",
   "metadata": {},
   "outputs": [
    {
     "data": {
      "text/plain": [
       "Text(0.5, 0, 'Feature Importance')"
      ]
     },
     "execution_count": 10,
     "metadata": {},
     "output_type": "execute_result"
    },
    {
     "data": {
      "image/png": "[encoded data removed]",
      "text/plain": [
       "<Figure size 432x288 with 1 Axes>"
      ]
     },
     "metadata": {
      "needs_background": "light"
     },
     "output_type": "display_data"
    }
   ],
   "source": [
    "# Feature importance\n",
    "from sklearn.inspection import permutation_importance\n",
    "perm_importance = permutation_importance(model, X_test, y_test)\n",
    "sorted_idx = perm_importance.importances_mean.argsort()\n",
    "plt.barh(np.array(features)[sorted_idx], perm_importance.importances_mean[sorted_idx])\n",
    "plt.xlabel(\"Feature Importance\")\n"
   ]
  },
  {
   "cell_type": "markdown",
   "id": "78c734ce",
   "metadata": {},
   "source": [
    "# Register model as UDF"
   ]
  },
  {
   "cell_type": "code",
   "execution_count": 11,
   "id": "faa3e67e",
   "metadata": {},
   "outputs": [],
   "source": [
    "@udf(name='predict_fraud_proba',is_permanent = True, stage_location = '@UDFSTAGE', replace=True)\n",
    "def predict_fraud_proba(city: str, zipcode: str, state: str, network: str, payment_type: str, \n",
    "                  is_masked: bool, avg_amount: float, total_amount: float, ip_distance: float) -> float:\n",
    "    rw = np.asarray([city, zipcode, state, network, payment_type, is_masked, avg_amount, total_amount, ip_distance])\n",
    "    row_dict= dict(zip(features,rw)) \n",
    "    row = pd.DataFrame(row_dict, index=[0])\n",
    "    return model.predict_proba(row)[:,1]"
   ]
  },
  {
   "cell_type": "code",
   "execution_count": 17,
   "id": "a991e684",
   "metadata": {},
   "outputs": [],
   "source": [
    "@udf(name='predict_fraud',is_permanent = True, stage_location = '@UDFSTAGE', replace=True)\n",
    "def predict_fraud(city: str, zipcode: str, state: str, network: str, payment_type: str, \n",
    "                  is_masked: bool, avg_amount: float, total_amount: float, ip_distance: float) -> int:\n",
    "    rw = np.asarray([city, zipcode, state, network, payment_type, is_masked, avg_amount, total_amount, ip_distance])\n",
    "    row_dict= dict(zip(features,rw)) \n",
    "    row = pd.DataFrame(row_dict, index=[0])\n",
    "    return model.predict(row)[0]"
   ]
  },
  {
   "cell_type": "code",
   "execution_count": 13,
   "id": "65514370",
   "metadata": {},
   "outputs": [],
   "source": [
    "new_df = session.table(name = 'new_transaction_data')"
   ]
  },
  {
   "cell_type": "markdown",
   "id": "2bfb370b",
   "metadata": {},
   "source": [
    "# Predict fraud in new transactions"
   ]
  },
  {
   "cell_type": "code",
   "execution_count": 18,
   "id": "fc10f87c",
   "metadata": {},
   "outputs": [
    {
     "name": "stdout",
     "output_type": "stream",
     "text": [
      "CPU times: user 34.4 ms, sys: 28.4 ms, total: 62.8 ms\n",
      "Wall time: 4min\n"
     ]
    }
   ],
   "source": [
    "%%time\n",
    "new_df.select(new_df.trnx_id,\n",
    "              predict_fraud(new_df.city, new_df.shipping_zipcode, new_df.shipping_state,\n",
    "                                new_df.payment_network, new_df.payment_type, new_df.is_masked, \n",
    "                                new_df.avg_price_per_item, new_df.total_trnx_amount,\n",
    "                                new_df.ip_to_shipping_distance).alias('fraud_flag')) \\\n",
    "      .write.mode('overwrite').saveAsTable('fraud_detection')"
   ]
  },
  {
   "cell_type": "code",
   "execution_count": 22,
   "id": "c0c2f256",
   "metadata": {},
   "outputs": [
    {
     "data": {
      "text/html": [
       "<div>\n",
       "<style scoped>\n",
       "    .dataframe tbody tr th:only-of-type {\n",
       "        vertical-align: middle;\n",
       "    }\n",
       "\n",
       "    .dataframe tbody tr th {\n",
       "        vertical-align: top;\n",
       "    }\n",
       "\n",
       "    .dataframe thead th {\n",
       "        text-align: right;\n",
       "    }\n",
       "</style>\n",
       "<table border=\"1\" class=\"dataframe\">\n",
       "  <thead>\n",
       "    <tr style=\"text-align: right;\">\n",
       "      <th></th>\n",
       "      <th>TRNX_ID</th>\n",
       "      <th>FRAUD_FLAG</th>\n",
       "    </tr>\n",
       "  </thead>\n",
       "  <tbody>\n",
       "    <tr>\n",
       "      <th>0</th>\n",
       "      <td>GIYBR7EUBD</td>\n",
       "      <td>0</td>\n",
       "    </tr>\n",
       "    <tr>\n",
       "      <th>1</th>\n",
       "      <td>HY81GKZBQF</td>\n",
       "      <td>1</td>\n",
       "    </tr>\n",
       "    <tr>\n",
       "      <th>2</th>\n",
       "      <td>GAP7ONR9MB</td>\n",
       "      <td>0</td>\n",
       "    </tr>\n",
       "    <tr>\n",
       "      <th>3</th>\n",
       "      <td>BVEBF1JEGH</td>\n",
       "      <td>0</td>\n",
       "    </tr>\n",
       "    <tr>\n",
       "      <th>4</th>\n",
       "      <td>YSV96NWUUT</td>\n",
       "      <td>0</td>\n",
       "    </tr>\n",
       "    <tr>\n",
       "      <th>5</th>\n",
       "      <td>3RJHX8BPVX</td>\n",
       "      <td>0</td>\n",
       "    </tr>\n",
       "    <tr>\n",
       "      <th>6</th>\n",
       "      <td>U0GD06SEKT</td>\n",
       "      <td>0</td>\n",
       "    </tr>\n",
       "    <tr>\n",
       "      <th>7</th>\n",
       "      <td>1DGKDEBZSS</td>\n",
       "      <td>0</td>\n",
       "    </tr>\n",
       "    <tr>\n",
       "      <th>8</th>\n",
       "      <td>N36EZ9BXP6</td>\n",
       "      <td>0</td>\n",
       "    </tr>\n",
       "    <tr>\n",
       "      <th>9</th>\n",
       "      <td>YHIHNL9KWU</td>\n",
       "      <td>0</td>\n",
       "    </tr>\n",
       "  </tbody>\n",
       "</table>\n",
       "</div>"
      ],
      "text/plain": [
       "      TRNX_ID  FRAUD_FLAG\n",
       "0  GIYBR7EUBD           0\n",
       "1  HY81GKZBQF           1\n",
       "2  GAP7ONR9MB           0\n",
       "3  BVEBF1JEGH           0\n",
       "4  YSV96NWUUT           0\n",
       "5  3RJHX8BPVX           0\n",
       "6  U0GD06SEKT           0\n",
       "7  1DGKDEBZSS           0\n",
       "8  N36EZ9BXP6           0\n",
       "9  YHIHNL9KWU           0"
      ]
     },
     "execution_count": 22,
     "metadata": {},
     "output_type": "execute_result"
    }
   ],
   "source": [
    "session.table('fraud_detection').sample(n=10).toPandas()"
   ]
  },
  {
   "cell_type": "markdown",
   "id": "1a394aa3",
   "metadata": {},
   "source": [
    "#### This demo showcase how Data Engineering and Data Science teams at StyleMeUp can use familiar programming concepts and APIs, and a rich ecosystem of open source packages provided by Snowpark for Python to collaborate and build this solution.\n",
    "\n",
    "#### Snowflake marketplace and data exchange offerings quickly let you test and build your models using 1st, 2nd and 3rd party data sets for better accuracy and testing. Without worrying about the logisticts of ingesting, transforming and loading data in your own database\n",
    "\n",
    "#### Some great features in this demo are -\n",
    "\n",
    "1. Using Snowflake native GEOGRAPHY datatypes and ST_DISTANCE geography functions to calculate ip_to_shipping distance. (No need for GeoPandas)\n",
    "2. Load data using pandas data frame (new functionality in Snowpark Python API)\n",
    "3. Create and deploy UDF in snowflake without pickle\n",
    "4. Using snowflake marketplace to quickly use 3rd party datasets without any dataengineering\n",
    "5. Using scikit learn, pandas, NumPy "
   ]
  },
  {
   "cell_type": "code",
   "execution_count": 16,
   "id": "a1cc0071-0ed4-495a-8c5f-cf24d731b18f",
   "metadata": {
    "tags": []
   },
   "outputs": [
    {
     "name": "stdout",
     "output_type": "stream",
     "text": [
      "Package                       Version\n",
      "----------------------------- -------------------\n",
      "alembic                       1.6.5\n",
      "altair                        4.1.0\n",
      "anyio                         3.1.0\n",
      "appdirs                       1.4.4\n",
      "argon2-cffi                   20.1.0\n",
      "asn1crypto                    1.4.0\n",
      "async-generator               1.10\n",
      "attrs                         21.2.0\n",
      "azure-common                  1.1.27\n",
      "azure-core                    1.17.0\n",
      "azure-storage-blob            12.8.1\n",
      "Babel                         2.9.1\n",
      "backcall                      0.2.0\n",
      "backports.functools-lru-cache 1.6.4\n",
      "beautifulsoup4                4.9.3\n",
      "bleach                        3.3.0\n",
      "blinker                       1.4\n",
      "bokeh                         2.3.2\n",
      "boto3                         1.18.17\n",
      "botocore                      1.21.17\n",
      "Bottleneck                    1.3.2\n",
      "brotlipy                      0.7.0\n",
      "cached-property               1.5.2\n",
      "certifi                       2021.5.30\n",
      "certipy                       0.1.3\n",
      "cffi                          1.14.5\n",
      "chardet                       4.0.0\n",
      "click                         7.1.2\n",
      "click-plugins                 1.1.1\n",
      "cligj                         0.7.2\n",
      "cloudpickle                   1.6.0\n",
      "conda                         4.10.1\n",
      "conda-package-handling        1.7.3\n",
      "cryptography                  3.4.7\n",
      "cycler                        0.10.0\n",
      "Cython                        0.29.23\n",
      "cytoolz                       0.11.0\n",
      "dask                          2021.4.1\n",
      "debugpy                       1.5.1\n",
      "decorator                     5.1.0\n",
      "defusedxml                    0.7.1\n",
      "dill                          0.3.3\n",
      "distributed                   2021.4.1\n",
      "entrypoints                   0.3\n",
      "feature-engine                1.1.2\n",
      "findspark                     1.3.0\n",
      "Fiona                         1.8.20\n",
      "fsspec                        2021.5.0\n",
      "geopandas                     0.10.2\n",
      "gmpy2                         2.1.0b1\n",
      "greenlet                      1.1.0\n",
      "h5py                          3.2.1\n",
      "HeapDict                      1.0.1\n",
      "idna                          2.10\n",
      "imagecodecs                   2021.3.31\n",
      "imageio                       2.9.0\n",
      "importlib-metadata            4.4.0\n",
      "ipykernel                     6.5.0\n",
      "ipympl                        0.7.0\n",
      "ipyparallel                   6.3.0\n",
      "ipython                       7.29.0\n",
      "ipython-genutils              0.2.0\n",
      "ipywidgets                    7.6.3\n",
      "isodate                       0.6.0\n",
      "jedi                          0.18.0\n",
      "Jinja2                        3.0.1\n",
      "jmespath                      0.10.0\n",
      "joblib                        1.0.1\n",
      "json5                         0.9.5\n",
      "jsonschema                    3.2.0\n",
      "jupyter-client                7.0.6\n",
      "jupyter-core                  4.9.1\n",
      "jupyter-server                1.8.0\n",
      "jupyter-telemetry             0.1.0\n",
      "jupyterhub                    1.4.1\n",
      "jupyterlab                    3.0.16\n",
      "jupyterlab-pygments           0.1.2\n",
      "jupyterlab-server             2.6.0\n",
      "jupyterlab-widgets            1.0.0\n",
      "kiwisolver                    1.3.1\n",
      "llvmlite                      0.36.0\n",
      "locket                        0.2.0\n",
      "Mako                          1.1.4\n",
      "mamba                         0.13.0\n",
      "MarkupSafe                    2.0.1\n",
      "matplotlib                    3.4.2\n",
      "matplotlib-inline             0.1.3\n",
      "metakernel                    0.27.5\n",
      "mistune                       0.8.4\n",
      "mock                          4.0.3\n",
      "mpmath                        1.2.1\n",
      "msgpack                       1.0.2\n",
      "msrest                        0.6.21\n",
      "munch                         2.5.0\n",
      "nbclassic                     0.3.1\n",
      "nbclient                      0.5.3\n",
      "nbconvert                     6.0.7\n",
      "nbformat                      5.1.3\n",
      "nest-asyncio                  1.5.1\n",
      "networkx                      2.5\n",
      "notebook                      6.4.0\n",
      "numba                         0.53.1\n",
      "numexpr                       2.7.3\n",
      "numpy                         1.20.3\n",
      "oauthlib                      3.1.0\n",
      "olefile                       0.46\n",
      "oscrypto                      1.2.1\n",
      "packaging                     20.9\n",
      "pamela                        1.0.0\n",
      "pandas                        1.2.4\n",
      "pandocfilters                 1.4.2\n",
      "parso                         0.8.2\n",
      "partd                         1.2.0\n",
      "patsy                         0.5.1\n",
      "pexpect                       4.8.0\n",
      "pickleshare                   0.7.5\n",
      "Pillow                        8.2.0\n",
      "pip                           21.2.3\n",
      "plotly                        5.1.0\n",
      "pooch                         1.3.0\n",
      "portalocker                   1.7.0\n",
      "prometheus-client             0.10.1\n",
      "prompt-toolkit                3.0.22\n",
      "protobuf                      3.15.8\n",
      "psutil                        5.8.0\n",
      "ptyprocess                    0.7.0\n",
      "pyarrow                       3.0.0\n",
      "pycosat                       0.6.3\n",
      "pycparser                     2.20\n",
      "pycryptodomex                 3.10.1\n",
      "pycurl                        7.43.0.6\n",
      "Pygments                      2.10.0\n",
      "PyJWT                         2.1.0\n",
      "pyodbc                        4.0.31\n",
      "pyOpenSSL                     20.0.1\n",
      "pyparsing                     2.4.7\n",
      "pyproj                        3.3.0\n",
      "pyrsistent                    0.17.3\n",
      "PySocks                       1.7.1\n",
      "pyspark                       3.1.1\n",
      "python-dateutil               2.8.2\n",
      "python-editor                 1.0.4\n",
      "python-json-logger            2.0.1\n",
      "pytz                          2021.1\n",
      "PyWavelets                    1.1.1\n",
      "PyYAML                        5.4.1\n",
      "pyzmq                         22.3.0\n",
      "requests                      2.25.1\n",
      "requests-oauthlib             1.3.0\n",
      "ruamel.yaml                   0.17.7\n",
      "ruamel.yaml.clib              0.2.2\n",
      "ruamel-yaml-conda             0.15.80\n",
      "s3transfer                    0.5.0\n",
      "scikit-image                  0.18.1\n",
      "scikit-learn                  0.24.2\n",
      "scipy                         1.6.3\n",
      "seaborn                       0.11.1\n",
      "Send2Trash                    1.5.0\n",
      "setuptools                    49.6.0.post20210108\n",
      "Shapely                       1.8.0\n",
      "six                           1.16.0\n",
      "sniffio                       1.2.0\n",
      "snowflake-connector-python    2.5.1\n",
      "snowflake-sqlalchemy          1.3.1\n",
      "sortedcontainers              2.4.0\n",
      "soupsieve                     2.0.1\n",
      "spylon                        0.3.0\n",
      "spylon-kernel                 0.4.1\n",
      "SQLAlchemy                    1.4.17\n",
      "statsmodels                   0.12.2\n",
      "sympy                         1.8\n",
      "tables                        3.6.1\n",
      "tblib                         1.7.0\n",
      "tenacity                      8.0.1\n",
      "terminado                     0.10.0\n",
      "testpath                      0.5.0\n",
      "threadpoolctl                 2.1.0\n",
      "tifffile                      2021.4.8\n",
      "toolz                         0.11.1\n",
      "tornado                       6.1\n",
      "tqdm                          4.61.0\n",
      "traitlets                     5.1.1\n",
      "typing-extensions             3.7.4.3\n",
      "urllib3                       1.26.5\n",
      "wcwidth                       0.2.5\n",
      "webencodings                  0.5.1\n",
      "websocket-client              0.57.0\n",
      "wheel                         0.36.2\n",
      "widgetsnbextension            3.5.1\n",
      "xlrd                          2.0.1\n",
      "zict                          2.0.0\n",
      "zipp                          3.4.1\n",
      "\u001b[33mWARNING: You are using pip version 21.2.3; however, version 21.3.1 is available.\n",
      "You should consider upgrading via the '/opt/conda/bin/python -m pip install --upgrade pip' command.\u001b[0m\n"
     ]
    }
   ],
   "source": [
    "#!pip list"
   ]
  },
  {
   "cell_type": "code",
   "execution_count": null,
   "id": "664fdc77",
   "metadata": {},
   "outputs": [],
   "source": []
  }
 ],
 "metadata": {
  "kernelspec": {
   "display_name": "pysnowpark",
   "language": "python",
   "name": "pysnowpark"
  },
  "language_info": {
   "codemirror_mode": {
    "name": "ipython",
    "version": 3
   },
   "file_extension": ".py",
   "mimetype": "text/x-python",
   "name": "python",
   "nbconvert_exporter": "python",
   "pygments_lexer": "ipython3",
   "version": "3.8.12"
  }
 },
 "nbformat": 4,
 "nbformat_minor": 5
}
