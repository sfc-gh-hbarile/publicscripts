{
 "cells": [
  {
   "cell_type": "markdown",
   "id": "fc917c37-0e0d-4b26-8141-e9dd137f68b7",
   "metadata": {},
   "source": [
    "## StyleMeUp - Fraud Detection in Online Retail \n",
    "### Data Loading and Prep Notebook"
   ]
  },
  {
   "cell_type": "code",
   "execution_count": 1,
   "id": "f393698e-c580-43c5-9fb3-cac57992f85d",
   "metadata": {},
   "outputs": [],
   "source": [
    "from snowflake.snowpark.session import Session\n",
    "from snowflake.snowpark.functions import udf, avg, col\n",
    "from snowflake.snowpark.types import IntegerType, FloatType, StringType, BooleanType\n",
    "import pandas as pd\n",
    "from config import snowfalke_conn_prop"
   ]
  },
  {
   "cell_type": "code",
   "execution_count": 2,
   "id": "e67ade48",
   "metadata": {},
   "outputs": [
    {
     "name": "stdout",
     "output_type": "stream",
     "text": [
      "(0, 2, 0, None)\n"
     ]
    }
   ],
   "source": [
    "from snowflake.snowpark import version\n",
    "print(version.VERSION)"
   ]
  },
  {
   "cell_type": "markdown",
   "id": "64baabdf-89ec-477b-a97d-9a771b1d8368",
   "metadata": {},
   "source": [
    "#### Connect to Snowflake"
   ]
  },
  {
   "cell_type": "code",
   "execution_count": 3,
   "id": "3e1b838e-369b-43e9-85b1-90b968ed9c88",
   "metadata": {},
   "outputs": [
    {
     "name": "stdout",
     "output_type": "stream",
     "text": [
      "[Row(status='FRAUDDEMO already exists, statement succeeded.')]\n",
      "[Row(status='Statement executed successfully.')]\n",
      "[Row(status='ORDERS successfully dropped.')]\n",
      "[Row(status='Drop statement executed successfully (ORDERS_DETAILS already dropped).')]\n",
      "[Row(status='ENRICHED_DATA successfully dropped.')]\n",
      "[Row(status='FRAUD_DETECTION successfully dropped.')]\n",
      "[Row(status='NEW_TRANSACTION_DATA successfully dropped.')]\n",
      "[Row(status='Statement executed successfully.')]\n",
      "[Row(status='UDFSTAGE already exists, statement succeeded.')]\n",
      "[Row(CURRENT_WAREHOUSE()='LAB_L_WH', CURRENT_DATABASE()='DEMO', CURRENT_SCHEMA()='FRAUDDEMO')]\n"
     ]
    }
   ],
   "source": [
    "session = Session.builder.configs(snowfalke_conn_prop).create()\n",
    "print(session.sql('create schema if not exists frauddemo').collect())\n",
    "print(session.sql('use schema frauddemo').collect())\n",
    "print(session.sql('drop table if exists orders').collect())\n",
    "print(session.sql('drop table if exists orders_details').collect())\n",
    "print(session.sql('drop table if exists enriched_data').collect())\n",
    "print(session.sql('drop table if exists fraud_detection').collect())\n",
    "print(session.sql('drop table if exists new_transaction_data').collect())\n",
    "print(session.sql('use schema frauddemo').collect())\n",
    "print(session.sql('create stage if not exists UDFSTAGE').collect())\n",
    "print(session.sql('select current_warehouse(), current_database(), current_schema()').collect())"
   ]
  },
  {
   "cell_type": "code",
   "execution_count": 4,
   "id": "d170e094",
   "metadata": {},
   "outputs": [],
   "source": [
    "#print(session.sql('CREATE STAGE if not exists fraud_data').collect())\n",
    "#print(session.sql('PUT file://order*.csv @fraud_data').collect())"
   ]
  },
  {
   "cell_type": "code",
   "execution_count": 5,
   "id": "9e974a77",
   "metadata": {},
   "outputs": [
    {
     "data": {
      "text/plain": [
       "ISFRAUD                int64\n",
       "TRNX_ID               object\n",
       "IP_ADDRESS            object\n",
       "CITY                  object\n",
       "SHIPPING_ZIPCODE       int64\n",
       "SHIPPING_STATE        object\n",
       "PAYMENT_NETWORK       object\n",
       "PAYMENT_TYPE          object\n",
       "TOTAL_TRNX_AMOUNT    float64\n",
       "JOIN_KEY               int64\n",
       "dtype: object"
      ]
     },
     "execution_count": 5,
     "metadata": {},
     "output_type": "execute_result"
    }
   ],
   "source": [
    "df = pd.read_csv('orders.csv')\n",
    "df.head()\n",
    "df.dtypes"
   ]
  },
  {
   "cell_type": "code",
   "execution_count": 6,
   "id": "8dea245e",
   "metadata": {},
   "outputs": [
    {
     "data": {
      "text/plain": [
       "ISFRAUD                int64\n",
       "TRNX_ID               object\n",
       "IP_ADDRESS            object\n",
       "CITY                  object\n",
       "SHIPPING_ZIPCODE      object\n",
       "SHIPPING_STATE        object\n",
       "PAYMENT_NETWORK       object\n",
       "PAYMENT_TYPE          object\n",
       "TOTAL_TRNX_AMOUNT    float64\n",
       "JOIN_KEY              object\n",
       "dtype: object"
      ]
     },
     "execution_count": 6,
     "metadata": {},
     "output_type": "execute_result"
    }
   ],
   "source": [
    "df = df.astype({\"JOIN_KEY\":str, \"SHIPPING_ZIPCODE\":str})\n",
    "df.dtypes"
   ]
  },
  {
   "cell_type": "code",
   "execution_count": 7,
   "id": "0e0e9a04",
   "metadata": {},
   "outputs": [
    {
     "name": "stdout",
     "output_type": "stream",
     "text": [
      "CPU times: user 776 ms, sys: 51.6 ms, total: 828 ms\n",
      "Wall time: 19.3 s\n"
     ]
    }
   ],
   "source": [
    "%%time\n",
    "snowpark_df = session.write_pandas(df, 'ORDERS', auto_create_table=True)"
   ]
  },
  {
   "cell_type": "code",
   "execution_count": 8,
   "id": "9de3d4c0",
   "metadata": {},
   "outputs": [
    {
     "data": {
      "text/plain": [
       "TRNX_ID     object\n",
       "ITEM        object\n",
       "PRICE      float64\n",
       "QTY          int64\n",
       "dtype: object"
      ]
     },
     "execution_count": 8,
     "metadata": {},
     "output_type": "execute_result"
    }
   ],
   "source": [
    "df2 = pd.read_csv('order_details.csv')\n",
    "df2.head()\n",
    "df2.dtypes"
   ]
  },
  {
   "cell_type": "code",
   "execution_count": 9,
   "id": "d8954156",
   "metadata": {},
   "outputs": [
    {
     "name": "stdout",
     "output_type": "stream",
     "text": [
      "CPU times: user 955 ms, sys: 85.3 ms, total: 1.04 s\n",
      "Wall time: 21.5 s\n"
     ]
    }
   ],
   "source": [
    "%%time\n",
    "snowpark_df = session.write_pandas(df2, 'ORDER_DETAILS', auto_create_table=True)"
   ]
  },
  {
   "cell_type": "code",
   "execution_count": null,
   "id": "38e8c7f7",
   "metadata": {},
   "outputs": [],
   "source": []
  }
 ],
 "metadata": {
  "kernelspec": {
   "display_name": "pysnowpark",
   "language": "python",
   "name": "pysnowpark"
  },
  "language_info": {
   "codemirror_mode": {
    "name": "ipython",
    "version": 3
   },
   "file_extension": ".py",
   "mimetype": "text/x-python",
   "name": "python",
   "nbconvert_exporter": "python",
   "pygments_lexer": "ipython3",
   "version": "3.8.12"
  }
 },
 "nbformat": 4,
 "nbformat_minor": 5
}
