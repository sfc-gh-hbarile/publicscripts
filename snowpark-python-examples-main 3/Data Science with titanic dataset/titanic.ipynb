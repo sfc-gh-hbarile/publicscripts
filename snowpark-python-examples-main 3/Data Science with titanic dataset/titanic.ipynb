{
 "cells": [
  {
   "cell_type": "code",
   "execution_count": 1,
   "id": "68aa2757",
   "metadata": {},
   "outputs": [
    {
     "data": {
      "text/html": [
       "<style>.container { width:98% !important; }</style>"
      ],
      "text/plain": [
       "<IPython.core.display.HTML object>"
      ]
     },
     "metadata": {},
     "output_type": "display_data"
    }
   ],
   "source": [
    "from IPython.core.display import display, HTML\n",
    "display(HTML(\"<style>.container { width:98% !important; }</style>\"))"
   ]
  },
  {
   "cell_type": "code",
   "execution_count": 2,
   "id": "f9bc42f5",
   "metadata": {},
   "outputs": [],
   "source": [
    "import sys\n",
    "from snowflake.snowpark.session import Session\n",
    "CONNECTION_PARAMETERS = {\n",
    "    # you connection parameters\n",
    "}"
   ]
  },
  {
   "cell_type": "markdown",
   "id": "a22b0c9f",
   "metadata": {},
   "source": [
    "### Connect to Snowflake"
   ]
  },
  {
   "cell_type": "code",
   "execution_count": 3,
   "id": "6b6a4a46",
   "metadata": {},
   "outputs": [],
   "source": [
    "session = Session.builder.configs(CONNECTION_PARAMETERS).create()"
   ]
  },
  {
   "cell_type": "markdown",
   "id": "fa39261b",
   "metadata": {},
   "source": [
    "### Upload a CSV file to Snowflake and read it into dataframe"
   ]
  },
  {
   "cell_type": "code",
   "execution_count": 4,
   "id": "63cf3161",
   "metadata": {
    "scrolled": true
   },
   "outputs": [],
   "source": [
    "# we will have a public API for uploading files at session level soon\n",
    "session._conn.upload_file(\"./titanic/train.csv\", stage_location=session.getSessionStage(),\n",
    "                         dest_prefix='titanic', compress_data=False, overwrite=True)"
   ]
  },
  {
   "cell_type": "code",
   "execution_count": 5,
   "id": "c9675034",
   "metadata": {},
   "outputs": [],
   "source": [
    "from snowflake.snowpark.types import IntegerType, StringType, FloatType, StructType, StructField\n",
    "train_csv_schema = StructType([StructField(\"PassengerId\", IntegerType()),\n",
    "                             StructField(\"Survived\", IntegerType()),\n",
    "                             StructField(\"Pclass\", IntegerType()),\n",
    "                             StructField(\"Name\", StringType()),\n",
    "                             StructField(\"Sex\", StringType()),\n",
    "                             StructField(\"Age\", IntegerType()),\n",
    "                             StructField(\"SibSp\", IntegerType()),\n",
    "                             StructField(\"Parch\", IntegerType()),\n",
    "                             StructField(\"Ticket\", StringType()),\n",
    "                             StructField(\"Fare\", FloatType()),\n",
    "                             StructField(\"Cabin\", StringType()),\n",
    "                             StructField(\"Embarked\", StringType())])\n",
    "\n",
    "options = {\"SKIP_HEADER\": 1, \"FIELD_OPTIONALLY_ENCLOSED_BY\": '\"'}\n",
    "\n",
    "                        \n",
    "train_file_on_stage = f\"{session.getSessionStage()}/titanic/train.csv\" \n",
    "df_train = session.read.options(options).schema(train_csv_schema).csv(train_file_on_stage)             "
   ]
  },
  {
   "cell_type": "code",
   "execution_count": 6,
   "id": "0aa12a31",
   "metadata": {},
   "outputs": [
    {
     "name": "stdout",
     "output_type": "stream",
     "text": [
      "---------------------------------------------------------------------------------------------------------------------------------------------------------------------------------------\n",
      "|\"PASSENGERID\"  |\"SURVIVED\"  |\"PCLASS\"  |\"NAME\"                                              |\"SEX\"   |\"AGE\"  |\"SIBSP\"  |\"PARCH\"  |\"TICKET\"          |\"FARE\"   |\"CABIN\"  |\"EMBARKED\"  |\n",
      "---------------------------------------------------------------------------------------------------------------------------------------------------------------------------------------\n",
      "|1              |0           |3         |Braund, Mr. Owen Harris                             |male    |22     |1        |0        |A/5 21171         |7.25     |NULL     |S           |\n",
      "|2              |1           |1         |Cumings, Mrs. John Bradley (Florence Briggs Tha...  |female  |38     |1        |0        |PC 17599          |71.2833  |C85      |C           |\n",
      "|3              |1           |3         |Heikkinen, Miss. Laina                              |female  |26     |0        |0        |STON/O2. 3101282  |7.925    |NULL     |S           |\n",
      "|4              |1           |1         |Futrelle, Mrs. Jacques Heath (Lily May Peel)        |female  |35     |1        |0        |113803            |53.1     |C123     |S           |\n",
      "|5              |0           |3         |Allen, Mr. William Henry                            |male    |35     |0        |0        |373450            |8.05     |NULL     |S           |\n",
      "|6              |0           |3         |Moran, Mr. James                                    |male    |NULL   |0        |0        |330877            |8.4583   |NULL     |Q           |\n",
      "|7              |0           |1         |McCarthy, Mr. Timothy J                             |male    |54     |0        |0        |17463             |51.8625  |E46      |S           |\n",
      "|8              |0           |3         |Palsson, Master. Gosta Leonard                      |male    |2      |3        |1        |349909            |21.075   |NULL     |S           |\n",
      "|9              |1           |3         |Johnson, Mrs. Oscar W (Elisabeth Vilhelmina Berg)   |female  |27     |0        |2        |347742            |11.1333  |NULL     |S           |\n",
      "|10             |1           |2         |Nasser, Mrs. Nicholas (Adele Achem)                 |female  |14     |1        |0        |237736            |30.0708  |NULL     |C           |\n",
      "---------------------------------------------------------------------------------------------------------------------------------------------------------------------------------------\n",
      "\n"
     ]
    },
    {
     "data": {
      "text/plain": [
       "891"
      ]
     },
     "execution_count": 6,
     "metadata": {},
     "output_type": "execute_result"
    }
   ],
   "source": [
    "df_train.show()\n",
    "df_train.count()"
   ]
  },
  {
   "cell_type": "markdown",
   "id": "d82e5a1a",
   "metadata": {},
   "source": [
    "### Data cleaning"
   ]
  },
  {
   "cell_type": "code",
   "execution_count": 7,
   "id": "4a7d04cd",
   "metadata": {},
   "outputs": [
    {
     "name": "stdout",
     "output_type": "stream",
     "text": [
      "---------------------------------------------------------------------------------------------------------------------------------\n",
      "|\"PASSENGERID\"  |\"SURVIVED\"  |\"PCLASS\"  |\"NAME\"  |\"SEX\"  |\"AGE\"  |\"SIBSP\"  |\"PARCH\"  |\"TICKET\"  |\"FARE\"  |\"CABIN\"  |\"EMBARKED\"  |\n",
      "---------------------------------------------------------------------------------------------------------------------------------\n",
      "|0              |0           |0         |0       |0      |177    |0        |0        |0         |0       |687      |2           |\n",
      "---------------------------------------------------------------------------------------------------------------------------------\n",
      "\n"
     ]
    }
   ],
   "source": [
    "from snowflake.snowpark.functions import sum as sum_, col\n",
    "\n",
    "df_train.agg([sum_(col(name).is_null().cast(IntegerType())) for name in df_train.columns]).toDF(df_train.columns).show()"
   ]
  },
  {
   "cell_type": "code",
   "execution_count": 8,
   "id": "2faa823e",
   "metadata": {},
   "outputs": [],
   "source": [
    "from snowflake.snowpark.functions import median, call_builtin\n",
    "\n",
    "train_age_median = df_train.select(median(\"age\")).collect()[0][0]\n",
    "train_embarked_mode = df_train.select(call_builtin(\"mode\", \"embarked\")).collect()[0][0]\n",
    "\n",
    "columns_to_drop = [\"passengerid\", \"name\", \"ticket\", \"cabin\"]\n",
    "\n",
    "# we will have a public API for filling null/nan value soon\n",
    "df_train_cleaned = df_train.withColumn(\"age_cleaned\", call_builtin(\"iff\", col(\"age\").is_null(), train_age_median, col(\"age\"))) \\\n",
    "                           .withColumn(\"embarked_cleaned\", call_builtin(\"iff\", col(\"embarked\").is_null(),train_embarked_mode, col(\"embarked\"))) \\\n",
    "                           .drop(\"age\", \"embarked\", *columns_to_drop)"
   ]
  },
  {
   "cell_type": "code",
   "execution_count": 9,
   "id": "a65e3bf4",
   "metadata": {},
   "outputs": [
    {
     "name": "stdout",
     "output_type": "stream",
     "text": [
      "-------------------------------------------------------------------------------------------------------------\n",
      "|\"SURVIVED\"  |\"PCLASS\"  |\"SEX\"   |\"SIBSP\"  |\"PARCH\"  |\"FARE\"   |\"AGE_CLEANED\"          |\"EMBARKED_CLEANED\"  |\n",
      "-------------------------------------------------------------------------------------------------------------\n",
      "|0           |3         |male    |1        |0        |7.25     |22.000000000000000000  |S                   |\n",
      "|1           |1         |female  |1        |0        |71.2833  |38.000000000000000000  |C                   |\n",
      "|1           |3         |female  |0        |0        |7.925    |26.000000000000000000  |S                   |\n",
      "|1           |1         |female  |1        |0        |53.1     |35.000000000000000000  |S                   |\n",
      "|0           |3         |male    |0        |0        |8.05     |35.000000000000000000  |S                   |\n",
      "|0           |3         |male    |0        |0        |8.4583   |28.000000000000000000  |Q                   |\n",
      "|0           |1         |male    |0        |0        |51.8625  |54.000000000000000000  |S                   |\n",
      "|0           |3         |male    |3        |1        |21.075   |2.000000000000000000   |S                   |\n",
      "|1           |3         |female  |0        |2        |11.1333  |27.000000000000000000  |S                   |\n",
      "|1           |2         |female  |1        |0        |30.0708  |14.000000000000000000  |C                   |\n",
      "-------------------------------------------------------------------------------------------------------------\n",
      "\n"
     ]
    }
   ],
   "source": [
    "df_train_cleaned.show()"
   ]
  },
  {
   "cell_type": "markdown",
   "id": "4ed01e37",
   "metadata": {},
   "source": [
    "### Feature engineering"
   ]
  },
  {
   "cell_type": "code",
   "execution_count": 10,
   "id": "d7bcb271",
   "metadata": {},
   "outputs": [
    {
     "name": "stdout",
     "output_type": "stream",
     "text": [
      "-------------------------------------------------------------------------------------------------------------\n",
      "|\"SURVIVED\"  |\"PCLASS\"  |\"SEX\"   |\"EMBARKED_CLEANED\"  |\"FAMILY_SIZE\"  |\"IS_ALONE\"  |\"AGE_BIN\"  |\"FARE_BIN\"  |\n",
      "-------------------------------------------------------------------------------------------------------------\n",
      "|0           |3         |male    |S                   |2              |1           |2          |1           |\n",
      "|1           |1         |female  |C                   |2              |1           |3          |1           |\n",
      "|1           |3         |female  |S                   |1              |0           |2          |1           |\n",
      "|1           |1         |female  |S                   |2              |1           |3          |1           |\n",
      "|0           |3         |male    |S                   |1              |0           |3          |1           |\n",
      "|0           |3         |male    |Q                   |1              |0           |2          |1           |\n",
      "|0           |1         |male    |S                   |1              |0           |4          |1           |\n",
      "|0           |3         |male    |S                   |5              |1           |1          |1           |\n",
      "|1           |3         |female  |S                   |3              |1           |2          |1           |\n",
      "|1           |2         |female  |C                   |2              |1           |1          |1           |\n",
      "-------------------------------------------------------------------------------------------------------------\n",
      "\n"
     ]
    }
   ],
   "source": [
    "from snowflake.snowpark.functions import min as min_, max as max_, udf\n",
    "\n",
    "train_age_min = df_train_cleaned.select(min_(\"age_cleaned\")).collect()[0][0]\n",
    "train_age_max = df_train_cleaned.select(max_(\"age_cleaned\")).collect()[0][0]\n",
    "train_fare_min = df_train_cleaned.select(min_(\"fare\")).collect()[0][0]\n",
    "train_fare_max = df_train_cleaned.select(max_(\"fare\")).collect()[0][0]\n",
    "\n",
    "\n",
    "df_train_augmented = df_train_cleaned.withColumn(\"family_size\", df_train_cleaned['sibsp'] + df_train_cleaned['parch'] + 1)\n",
    "df_train_augmented = df_train_augmented.withColumn(\"is_alone\", (df_train_augmented[\"family_size\"] > 1).cast(IntegerType())) \\\n",
    "                                       .withColumn(\"age_bin\", call_builtin(\"width_bucket\", col(\"age_cleaned\"), train_age_min, train_age_max, 5)) \\\n",
    "                                       .withColumn(\"fare_bin\", call_builtin(\"width_bucket\", col(\"fare\"), train_fare_min, train_fare_max, 4)) \\\n",
    "                                       .drop(\"sibsp\", \"parch\", \"fare\", \"age_cleaned\")\n",
    "df_train_augmented.show()"
   ]
  },
  {
   "cell_type": "markdown",
   "id": "554392ce",
   "metadata": {},
   "source": [
    "### Encode label\n",
    "This part can be accomplished by creating a UDF with `sklearn.preprocessing.LabelEncoder`once we have `flatten` table function (under development)."
   ]
  },
  {
   "cell_type": "code",
   "execution_count": 11,
   "id": "2bf9a79d",
   "metadata": {},
   "outputs": [
    {
     "name": "stdout",
     "output_type": "stream",
     "text": [
      "----------------------\n",
      "|\"EMBARKED_CLEANED\"  |\n",
      "----------------------\n",
      "|S                   |\n",
      "|C                   |\n",
      "|Q                   |\n",
      "|embarked            |\n",
      "----------------------\n",
      "\n"
     ]
    }
   ],
   "source": [
    "df_train_cleaned.select(\"EMBARKED_CLEANED\").distinct().show()"
   ]
  },
  {
   "cell_type": "code",
   "execution_count": 12,
   "id": "d90474fc",
   "metadata": {},
   "outputs": [],
   "source": [
    "@udf \n",
    "def encode_embarked(e: str) -> int:\n",
    "    if e == \"S\":\n",
    "        return 0\n",
    "    elif e == \"C\":\n",
    "        return 1\n",
    "    else:\n",
    "        return 2\n",
    "    \n",
    "df_train_augmented = df_train_augmented.withColumn(\"embarked_encoded\", encode_embarked(\"EMBARKED_CLEANED\"))"
   ]
  },
  {
   "cell_type": "code",
   "execution_count": 13,
   "id": "3d283a06",
   "metadata": {},
   "outputs": [
    {
     "name": "stdout",
     "output_type": "stream",
     "text": [
      "----------------------------------------------------------------------------------------------------------------------------\n",
      "|\"SURVIVED\"  |\"PCLASS\"  |\"FAMILY_SIZE\"  |\"IS_ALONE\"  |\"EMBARKED_ENCODED\"  |\"SEX_ENCODED\"  |\"AGE_ENCODED\"  |\"FARE_ENCODED\"  |\n",
      "----------------------------------------------------------------------------------------------------------------------------\n",
      "|0           |3         |2              |1           |0                   |0              |1              |0               |\n",
      "|1           |1         |2              |1           |1                   |1              |2              |0               |\n",
      "|1           |3         |1              |0           |0                   |1              |1              |0               |\n",
      "|1           |1         |2              |1           |0                   |1              |2              |0               |\n",
      "|0           |3         |1              |0           |0                   |0              |2              |0               |\n",
      "|0           |3         |1              |0           |2                   |0              |1              |0               |\n",
      "|0           |1         |1              |0           |0                   |0              |3              |0               |\n",
      "|0           |3         |5              |1           |0                   |0              |0              |0               |\n",
      "|1           |3         |3              |1           |0                   |1              |1              |0               |\n",
      "|1           |2         |2              |1           |1                   |1              |0              |0               |\n",
      "----------------------------------------------------------------------------------------------------------------------------\n",
      "\n"
     ]
    }
   ],
   "source": [
    "df_train_augmented = df_train_augmented.withColumn(\"sex_encoded\", call_builtin(\"iff\", col(\"sex\") == \"male\", 0, 1)) \\\n",
    "                                       .withColumn(\"age_encoded\", col(\"age_bin\") - 1) \\\n",
    "                                       .withColumn(\"fare_encoded\", col(\"fare_bin\") - 1)\n",
    "df_train_augmented = df_train_augmented.select(\"survived\", \"pclass\", \"family_size\", \"is_alone\", \"embarked_encoded\",\n",
    "                                               \"sex_encoded\", \"age_encoded\", \"fare_encoded\")\n",
    "df_train_augmented.show()"
   ]
  },
  {
   "cell_type": "markdown",
   "id": "d8493f7a",
   "metadata": {},
   "source": [
    "### Save to a table in Snowflake"
   ]
  },
  {
   "cell_type": "code",
   "execution_count": 14,
   "id": "04b8be20",
   "metadata": {},
   "outputs": [
    {
     "name": "stdout",
     "output_type": "stream",
     "text": [
      "----------------------------------------------------------------------------------------------------------------------------\n",
      "|\"SURVIVED\"  |\"PCLASS\"  |\"FAMILY_SIZE\"  |\"IS_ALONE\"  |\"EMBARKED_ENCODED\"  |\"SEX_ENCODED\"  |\"AGE_ENCODED\"  |\"FARE_ENCODED\"  |\n",
      "----------------------------------------------------------------------------------------------------------------------------\n",
      "|0           |3         |2              |1           |0                   |0              |1              |0               |\n",
      "|1           |1         |2              |1           |1                   |1              |2              |0               |\n",
      "|1           |3         |1              |0           |0                   |1              |1              |0               |\n",
      "|1           |1         |2              |1           |0                   |1              |2              |0               |\n",
      "|0           |3         |1              |0           |0                   |0              |2              |0               |\n",
      "|0           |3         |1              |0           |2                   |0              |1              |0               |\n",
      "|0           |1         |1              |0           |0                   |0              |3              |0               |\n",
      "|0           |3         |5              |1           |0                   |0              |0              |0               |\n",
      "|1           |3         |3              |1           |0                   |1              |1              |0               |\n",
      "|1           |2         |2              |1           |1                   |1              |0              |0               |\n",
      "----------------------------------------------------------------------------------------------------------------------------\n",
      "\n"
     ]
    }
   ],
   "source": [
    "df_train_augmented.write.saveAsTable(\"titanic\")\n",
    "df = session.table(\"titanic\")\n",
    "df.show()"
   ]
  },
  {
   "cell_type": "markdown",
   "id": "ccb75a5d",
   "metadata": {},
   "source": [
    "### Train and Validate ML models "
   ]
  },
  {
   "cell_type": "code",
   "execution_count": 15,
   "id": "e1b21785",
   "metadata": {},
   "outputs": [],
   "source": [
    "from snowflake.snowpark.types import ArrayType, MapType\n",
    "import numpy as np\n",
    "from sklearn.model_selection import train_test_split\n",
    "from sklearn.linear_model import LogisticRegression, Perceptron\n",
    "from sklearn.svm import SVC\n",
    "from sklearn.ensemble import RandomForestClassifier\n",
    "from sklearn.neighbors import KNeighborsClassifier\n",
    "from xgboost import XGBClassifier\n",
    "\n",
    "\n",
    "def train_and_validate(model_class, X, y, cv=5):\n",
    "    acc_train, acc_val = [], []\n",
    "    for i in range(cv):\n",
    "        model = model_class()\n",
    "        X_train, X_val, y_train, y_val = train_test_split(X, y, test_size=0.2, random_state=i+1)\n",
    "        model.fit(X_train, y_train)\n",
    "        acc_train.append(model.score(X_train, y_train))\n",
    "        acc_val.append(model.score(X_val, y_val))\n",
    "    return sum(acc_train) / cv, sum(acc_val) / cv\n",
    "\n",
    "\n",
    "def run_models(*data):\n",
    "    y = np.array(data[0])\n",
    "    X = np.column_stack(data[1:])\n",
    "    \n",
    "    models = {\n",
    "              \"lr\": LogisticRegression,\n",
    "              \"perceptron\": Perceptron,\n",
    "              \"svm\": SVC,\n",
    "              \"xgboost\": XGBClassifier,\n",
    "              \"random_forest\": RandomForestClassifier,\n",
    "              \"knn\": KNeighborsClassifier\n",
    "             }\n",
    "    \n",
    "    return {k: train_and_validate(v, X, y) for k, v in models.items()}\n",
    "\n",
    "\n",
    "run_models_udf = udf(run_models, return_type=MapType(StringType(), ArrayType(FloatType())), input_types=[ArrayType(IntegerType())] * len(df.columns))"
   ]
  },
  {
   "cell_type": "code",
   "execution_count": 16,
   "id": "fcb2927d",
   "metadata": {},
   "outputs": [
    {
     "data": {
      "text/plain": [
       "{'knn': [0.8424157303370787, 0.7921787709497208],\n",
       " 'lr': [0.8042134831460673, 0.7955307262569834],\n",
       " 'perceptron': [0.7519662921348315, 0.7318435754189944],\n",
       " 'random_forest': [0.8693820224719101, 0.7899441340782124],\n",
       " 'svm': [0.8300561797752808, 0.8178770949720671],\n",
       " 'xgboost': [0.8634831460674157, 0.7932960893854748]}"
      ]
     },
     "execution_count": 16,
     "metadata": {},
     "output_type": "execute_result"
    }
   ],
   "source": [
    "from snowflake.snowpark.functions import array_agg\n",
    "\n",
    "res = eval(df.select(run_models_udf(*[array_agg(col(name)) for name in df.columns])).collect()[0][0])\n",
    "res"
   ]
  },
  {
   "cell_type": "code",
   "execution_count": 17,
   "id": "7b4470e2",
   "metadata": {},
   "outputs": [
    {
     "data": {
      "image/png": "[encoded data removed]",
      "text/plain": [
       "<Figure size 720x576 with 1 Axes>"
      ]
     },
     "metadata": {
      "needs_background": "light"
     },
     "output_type": "display_data"
    }
   ],
   "source": [
    "import matplotlib.pyplot as plt\n",
    "\n",
    "model_class, acc_train, acc_val = [], [], []\n",
    "for k, v in res.items():\n",
    "    model_class.append(k)\n",
    "    acc_train.append(round(v[0], 3))\n",
    "    acc_val.append(round(v[1], 3))\n",
    "\n",
    "    \n",
    "x = np.arange(len(model_class))\n",
    "width = 0.3 \n",
    "\n",
    "\n",
    "plt.figure(figsize=(10, 8))\n",
    "ax = plt.gca()\n",
    "rects1 = ax.bar(x - width/2, acc_train, width, label='Train')\n",
    "rects2 = ax.bar(x + width/2, acc_val, width, label='Validation')\n",
    "\n",
    "ax.set_ylabel('Accuracy')\n",
    "ax.set_xticks(x)\n",
    "ax.set_xticklabels(model_class)\n",
    "ax.legend()\n",
    "\n",
    "ax.bar_label(rects1, padding=3)\n",
    "ax.bar_label(rects2, padding=3)\n",
    "\n",
    "plt.show()"
   ]
  },
  {
   "cell_type": "markdown",
   "id": "85b17229",
   "metadata": {},
   "source": [
    "----------------------------------------------------------"
   ]
  },
  {
   "cell_type": "code",
   "execution_count": 18,
   "id": "b3712c2d",
   "metadata": {},
   "outputs": [],
   "source": [
    "session.sql(\"drop table if exists titanic\").collect()\n",
    "session.close()"
   ]
  },
  {
   "cell_type": "code",
   "execution_count": null,
   "id": "ff4d1385",
   "metadata": {},
   "outputs": [],
   "source": []
  }
 ],
 "metadata": {
  "kernelspec": {
   "display_name": "Python 3 (ipykernel)",
   "language": "python",
   "name": "python3"
  },
  "language_info": {
   "codemirror_mode": {
    "name": "ipython",
    "version": 3
   },
   "file_extension": ".py",
   "mimetype": "text/x-python",
   "name": "python",
   "nbconvert_exporter": "python",
   "pygments_lexer": "ipython3",
   "version": "3.8.11"
  }
 },
 "nbformat": 4,
 "nbformat_minor": 5
}
