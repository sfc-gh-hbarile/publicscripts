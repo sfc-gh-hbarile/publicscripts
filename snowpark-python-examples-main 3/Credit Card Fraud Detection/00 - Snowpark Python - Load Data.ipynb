{
 "cells": [
  {
   "cell_type": "markdown",
   "id": "68744f63-fcc9-4759-9996-f7768fa62305",
   "metadata": {},
   "source": [
    "# Credit Card Fraud Prediction - Loading Dataset using Snowpark Python\n",
    "\n",
    "This demo is based on the Machine Learning for Credit Card Fraud detection - Practical handbook, https://fraud-detection-handbook.github.io/fraud-detection-handbook/"
   ]
  },
  {
   "cell_type": "markdown",
   "id": "3baa542d-92f7-4a79-a8ea-be189bda306a",
   "metadata": {},
   "source": [
    "## Loading Credit Card Transactions into Snowflake\n",
    "\n",
    "### Import the dependencies and connect to Snowflake"
   ]
  },
  {
   "cell_type": "code",
   "execution_count": null,
   "id": "731d3ad3-48ce-498a-83e4-9efb780e5a46",
   "metadata": {},
   "outputs": [],
   "source": [
    "from snowflake.snowpark import Session\n",
    "from snowflake.snowpark.types import *\n",
    "from snowflake.snowpark.functions import *\n",
    "\n",
    "import json"
   ]
  },
  {
   "cell_type": "code",
   "execution_count": null,
   "id": "c140283a-60eb-4215-945b-50ffb8ba7b92",
   "metadata": {},
   "outputs": [],
   "source": [
    "with open('creds.json') as f:\n",
    "    connection_parameters = json.load(f)    "
   ]
  },
  {
   "cell_type": "code",
   "execution_count": null,
   "id": "04cbfa0d-8505-46a4-b4ab-602814c12d53",
   "metadata": {},
   "outputs": [],
   "source": [
    "session = Session.builder.configs(connection_parameters).create()"
   ]
  },
  {
   "cell_type": "markdown",
   "id": "04cdd2e3-27bb-4a8a-9bdd-011759cc7882",
   "metadata": {},
   "source": [
    "### Define Staging Area and the Schema for the transaction table\n",
    "\n",
    "Using SQL we can create a internal stage and then use the **put** function to uplad the **fraud_transactions.csv.gz** file to it."
   ]
  },
  {
   "cell_type": "code",
   "execution_count": null,
   "id": "998ff299-6597-4a9d-a034-09c57472a478",
   "metadata": {},
   "outputs": [],
   "source": [
    "# Create a internal staging area for uploading the source file\n",
    "session.sql(\"CREATE or replace STAGE fraud_data\").collect()\n",
    "\n",
    "# Upload the source file to the stage\n",
    "putResult = session.file.put(\"data/fraud_transactions.csv.gz\", \"@fraud_data\", auto_compress=False)\n",
    "\n",
    "putResult"
   ]
  },
  {
   "cell_type": "markdown",
   "id": "87476649-9e5b-4907-be64-2dcaea28a6b8",
   "metadata": {},
   "source": [
    "Define the schma for our **CUSTOMER_TRANSACTIONS_FRAUD** table"
   ]
  },
  {
   "cell_type": "code",
   "execution_count": null,
   "id": "a372c7ee-62e1-4b77-a923-efb4d840d512",
   "metadata": {},
   "outputs": [],
   "source": [
    "# Define the schema for the Frauds table\n",
    "dfCustTrxFraudSchema = StructType(\n",
    "    [\n",
    "        StructField(\"TRANSACTION_ID\", IntegerType()),\n",
    "        StructField(\"TX_DATETIME\", TimestampType()),\n",
    "        StructField(\"CUSTOMER_ID\", IntegerType()),\n",
    "        StructField(\"TERMINAL_ID\", IntegerType()),\n",
    "        StructField(\"TX_AMOUNT\", FloatType()),\n",
    "        StructField(\"TX_TIME_SECONDS\", IntegerType()),\n",
    "        StructField(\"TX_TIME_DAYS\", IntegerType()),\n",
    "        StructField(\"TX_FRAUD\", IntegerType()),\n",
    "        StructField(\"TX_FRAUD_SCENARIO\", IntegerType())\n",
    "    ]\n",
    ")"
   ]
  },
  {
   "cell_type": "markdown",
   "id": "a7ae5a4d-9058-4428-aa27-328dfbf2bd68",
   "metadata": {},
   "source": [
    "Load the **fraud_transactions.csv.gz** to a DataFrame reader and save into a table"
   ]
  },
  {
   "cell_type": "code",
   "execution_count": null,
   "id": "d2a1dade-44be-497a-82e7-ace3c2462966",
   "metadata": {},
   "outputs": [],
   "source": [
    "# Crete a reader\n",
    "dfReader = session.read.schema(dfCustTrxFraudSchema)\n",
    "\n",
    "# Get the data into the data frame\n",
    "dfCustTrxFraudRd = dfReader.csv(\"@fraud_data/fraud_transactions.csv.gz\")"
   ]
  },
  {
   "cell_type": "code",
   "execution_count": null,
   "id": "358c8a6f-4e05-4a82-bde5-3695c701f8af",
   "metadata": {},
   "outputs": [],
   "source": [
    "# Write the dataframe in a table\n",
    "ret = dfCustTrxFraudRd.write.mode(\"overwrite\").saveAsTable(\"CUSTOMER_TRANSACTIONS_FRAUD\")"
   ]
  },
  {
   "cell_type": "markdown",
   "id": "ca2c401b-cfa3-41d0-a7c6-59cb0ae0cf50",
   "metadata": {},
   "source": [
    "### Read the data from the staging area and create CUSTOMER_TRANSACTIONS_FRAUD, CUSTOMERS and TERMINALS tables"
   ]
  },
  {
   "cell_type": "code",
   "execution_count": null,
   "id": "14282b62-c4f7-4b5a-a19e-eb1aeff7064a",
   "metadata": {},
   "outputs": [],
   "source": [
    "# Now create Customers and Terminal tables\n",
    "\n",
    "dfCustTrxFraudTb =session.table(\"CUSTOMER_TRANSACTIONS_FRAUD\")\n",
    "\n",
    "dfCustomers = dfCustTrxFraudTb.select(col(\"CUSTOMER_ID\")).distinct().sort(col(\"CUSTOMER_ID\"))\n",
    "\n",
    "dfTerminals = dfCustTrxFraudTb.select(col(\"TERMINAL_ID\")).distinct().sort(col(\"TERMINAL_ID\"))\n",
    "                                \n",
    "ret2 = dfCustomers.write.mode(\"overwrite\").saveAsTable(\"CUSTOMERS\")\n",
    "\n",
    "ret3 = dfTerminals.write.mode(\"overwrite\").saveAsTable(\"TERMINALS\")"
   ]
  },
  {
   "cell_type": "code",
   "execution_count": null,
   "id": "ee6c44b0-136a-438b-b19f-bf395a79efad",
   "metadata": {},
   "outputs": [],
   "source": []
  }
 ],
 "metadata": {
  "kernelspec": {
   "display_name": "Python 3 (ipykernel)",
   "language": "python",
   "name": "python3"
  },
  "language_info": {
   "codemirror_mode": {
    "name": "ipython",
    "version": 3
   },
   "file_extension": ".py",
   "mimetype": "text/x-python",
   "name": "python",
   "nbconvert_exporter": "python",
   "pygments_lexer": "ipython3",
   "version": "3.8.12"
  }
 },
 "nbformat": 4,
 "nbformat_minor": 5
}
