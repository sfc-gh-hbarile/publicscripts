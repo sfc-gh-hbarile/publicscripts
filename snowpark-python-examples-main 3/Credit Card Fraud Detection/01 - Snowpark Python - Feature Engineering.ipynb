{
 "cells": [
  {
   "cell_type": "markdown",
   "id": "c6e408fe-988e-49af-986c-52530c763ba9",
   "metadata": {},
   "source": [
    "# Credit Card Fraud Prediction - Feature Engineering\n",
    "\n",
    "This demo is based on the Machine Learning for Credit Card Fraud detection - Practical handbook, https://fraud-detection-handbook.github.io/fraud-detection-handbook/"
   ]
  },
  {
   "cell_type": "markdown",
   "id": "92096f68-5b3b-4c3d-8336-edd0e442b2e3",
   "metadata": {},
   "source": [
    "## Baseline feature transformation\n",
    "\n",
    "### Import Snowpark & Connect to Snowflake\n",
    "\n",
    "Here we first import the Snowpark dependencies and then make a connection with the Snowflake account.\n",
    "\n",
    "The creds.json file used has information about what Snowflake Account to use, User, Database and what Virtual Warehouse to use for this session. "
   ]
  },
  {
   "cell_type": "code",
   "execution_count": null,
   "id": "30f444da-e690-4bd9-9281-d17b212eed14",
   "metadata": {},
   "outputs": [],
   "source": [
    "from snowflake.snowpark import Session\n",
    "from snowflake.snowpark.types import *\n",
    "from snowflake.snowpark.functions import *\n",
    "from snowflake.snowpark import Window\n",
    "\n",
    "import json"
   ]
  },
  {
   "cell_type": "code",
   "execution_count": null,
   "id": "e2045b48-4749-45f6-a61b-140915680d7d",
   "metadata": {},
   "outputs": [],
   "source": [
    "with open('creds.json') as f:\n",
    "    connection_parameters = json.load(f)    "
   ]
  },
  {
   "cell_type": "markdown",
   "id": "5c003c14-8a9c-4cfa-93f4-96dcf72dd7d5",
   "metadata": {},
   "source": [
    "Connect to Snowflake using the parameters in creds.json"
   ]
  },
  {
   "cell_type": "code",
   "execution_count": null,
   "id": "49f84f71-18b2-4fca-9af0-bdf165f202a6",
   "metadata": {},
   "outputs": [],
   "source": [
    "session = Session.builder.configs(connection_parameters).create()"
   ]
  },
  {
   "cell_type": "markdown",
   "id": "d7ba1cc6-ad4a-4d03-8aad-04e6c116b209",
   "metadata": {},
   "source": [
    "### Define a DataFrame\n",
    "\n",
    "We start by defining a Snowpark Dataframe that reference the **CUSTOMER_TRANSACTIONS_FRAUD** table in our database. No data will be pulled back and the **dfCustTrxFraud** is basicly only containing the SQL needed to use the table. The below image gives a illustration on what type of data it has.\n",
    "\n",
    "![Original Data Frame](images/figure1.png)\n",
    "\n",
    "Using the **show** command brings back 10 rows to the client, meaning the SQL to use the table are executed in Snowflake."
   ]
  },
  {
   "cell_type": "code",
   "execution_count": null,
   "id": "cd624b3b-b179-4a97-b93f-c677c2061b12",
   "metadata": {},
   "outputs": [],
   "source": [
    "dfCustTrxFraud = session.table(\"CUSTOMER_TRANSACTIONS_FRAUD\")\n",
    "dfCustTrxFraud.show()"
   ]
  },
  {
   "cell_type": "markdown",
   "id": "6e981073-3767-43c9-83cd-adac352a8831",
   "metadata": {},
   "source": [
    "## Data Understanding\n",
    "\n",
    "Let's start by getting some basic understanding of our data.\n",
    "\n",
    "We can use the **describe** function on our **numeric** columns to get some basic statistics. The only column in our current dataset would be TX_AMOUNT."
   ]
  },
  {
   "cell_type": "code",
   "execution_count": null,
   "id": "5cb972cb-a458-4d2f-9cf7-1720b498c715",
   "metadata": {},
   "outputs": [],
   "source": [
    "dfCustTrxFraud.describe([\"TX_AMOUNT\"]).show()"
   ]
  },
  {
   "cell_type": "markdown",
   "id": "4ac4c790-7feb-4fdd-9cd5-2f62fdabe706",
   "metadata": {},
   "source": [
    "By aggregating on date and count the number of rows we can visulaize over time, plotly is a good library to do that and inb order to use it we need to pull back our reulst to the client which can be done with **toPandas**"
   ]
  },
  {
   "cell_type": "code",
   "execution_count": null,
   "id": "f4f79aa8-2241-4bd7-a644-809ee371e13a",
   "metadata": {},
   "outputs": [],
   "source": [
    "import plotly.express as px\n",
    "\n",
    "dfCountbyDate = dfCustTrxFraud.groupBy(to_date(col(\"TX_DATETIME\"))).count().sort(col(\"TO_DATE(TX_DATETIME)\")).select(col(\"TO_DATE(TX_DATETIME)\").as_(\"DATE\"), col(\"COUNT\")).toPandas()\n",
    "fig = px.line(dfCountbyDate, x=\"DATE\", y=\"COUNT\", title='Transactions by Day')\n",
    "fig.show()"
   ]
  },
  {
   "cell_type": "markdown",
   "id": "2c491fa3-b853-4aae-92d4-26018251da73",
   "metadata": {},
   "source": [
    "We can see that we have about 6 months  of transactions and around 9k transactions/day.\n",
    "\n",
    "Let's count the number of fraudulent and none fraudulent transactions, by using the **call_builtin** function we can also use the use **RATIO_TO_REPORT** function (that currently is not exposed in the Snowpark API) to also get precentages"
   ]
  },
  {
   "cell_type": "code",
   "execution_count": null,
   "id": "b2670922-f1ae-42ca-8d11-79f9692c13e2",
   "metadata": {},
   "outputs": [],
   "source": [
    "dfCustTrxFraud.groupBy(col(\"TX_FRAUD\")).agg(count(col(\"TRANSACTION_ID\")).as_(\"NB_TX_DAY\"))\\\n",
    "            .select(col(\"TX_FRAUD\"), col(\"NB_TX_DAY\"), call_builtin(\"RATIO_TO_REPORT\", col(\"NB_TX_DAY\")).over() * 100 )\\\n",
    "            .show()"
   ]
  },
  {
   "cell_type": "markdown",
   "id": "116c1711-9b7e-4706-ad67-99db3be4d333",
   "metadata": {},
   "source": [
    "We can see that about 0.9% of all transactions are fraud.\n",
    "\n",
    "If we look at the number of fraudlent transactions and unique cards used we can see that most cards is used very few times."
   ]
  },
  {
   "cell_type": "code",
   "execution_count": null,
   "id": "a8a18d05-1489-40db-a6bf-4e33949f45bb",
   "metadata": {},
   "outputs": [],
   "source": [
    "pdDayByCard = dfCustTrxFraud.filter(col(\"TX_FRAUD\") == 1)\\\n",
    "                             .groupBy(to_date(col(\"TX_DATETIME\"))).agg([sum(col(\"TX_FRAUD\")).as_(\"NBR_FRAUD_TRX\"), count_distinct(col(\"CUSTOMER_ID\")).as_(\"NBR_FRAUD_CARD\")])\\\n",
    "                             .sort(col(\"TO_DATE(TX_DATETIME)\")).toPandas()\n",
    "fig = px.line(pdDayByCard, x=\"TO_DATE(TX_DATETIME)\", y=[\"NBR_FRAUD_TRX\", \"NBR_FRAUD_CARD\"], title='Fraud Transactions vs Fraud Cards')\n",
    "fig.show()\n"
   ]
  },
  {
   "cell_type": "markdown",
   "id": "ec463eb1-4d74-485b-a9b3-231c02a8d41e",
   "metadata": {},
   "source": [
    "## Feature Engineering\n",
    "### Date and time transformations\n",
    "\n",
    "We will create two new binary features from the transaction dates and times:\n",
    "\n",
    "* The first will characterize whether a transaction occurs during a weekday (value 0) or a weekend (1), and will be called TX_DURING_WEEKEND\n",
    "* The second will characterize whether a transaction occurs during the day (0) or during the night (1). The night is defined as hours that are between 20pm and 6am. It will be called TX_DURING_NIGHT.\n",
    "\n",
    "This can be done using the built in date functions in Snowflake that are exposed in the Snowpark API and will be based on the **TX_DATETIME** column, as illustrated in the image below.\n",
    "\n",
    "![Figure2](images/figure2.png)"
   ]
  },
  {
   "cell_type": "code",
   "execution_count": null,
   "id": "197226c3-c02b-4cc5-9e08-74c98d29edef",
   "metadata": {},
   "outputs": [],
   "source": [
    "dfDateTimeFeat = dfCustTrxFraud.withColumns([\"TX_DURING_WEEKEND\",  \"TX_DURING_NIGHT\"],\\\n",
    "                                            [iff((call_builtin(\"dayofweek\", col(\"TX_DATETIME\")) == lit(6)) | (call_builtin(\"dayofweek\", col(\"TX_DATETIME\")) == lit(0)), lit(1), lit(0)),\\\n",
    "                                             iff((call_builtin(\"hour\", col(\"TX_DATETIME\")) < lit(6)) | (call_builtin(\"hour\",col(\"TX_DATETIME\")) > lit(20)), lit(1), lit(0))])\n",
    "\n",
    "dfDateTimeFeat.sort(col(\"TRANSACTION_ID\")).show()"
   ]
  },
  {
   "cell_type": "markdown",
   "id": "33a9befa-10c0-41d3-b66c-bd7d46881fe7",
   "metadata": {},
   "source": [
    "Is there differences between the number of fraud cases during weekdays/weekdays and day/Night?"
   ]
  },
  {
   "cell_type": "code",
   "execution_count": null,
   "id": "214a5ec3-fb57-4f74-92a6-4563ff9b514e",
   "metadata": {},
   "outputs": [],
   "source": [
    "window = Window.partitionBy(col(\"TX_DURING_WEEKEND\"), col(\"TX_DURING_NIGHT\"))\n",
    "\n",
    "dfDateTimeFeat.groupBy(col(\"TX_DURING_WEEKEND\"),col(\"TX_DURING_NIGHT\"),col(\"TX_FRAUD\"))\\\n",
    "                    .count().sort(col(\"TX_DURING_WEEKEND\"), col(\"TX_DURING_NIGHT\"), col(\"TX_FRAUD\"))\\\n",
    "                    .select(col(\"TX_DURING_WEEKEND\"), col(\"TX_DURING_NIGHT\"), col(\"TX_FRAUD\"), call_builtin(\"RATIO_TO_REPORT\", col(\"COUNT\")).over(window) * 100 )\\\n",
    "                    .sort(col(\"TX_DURING_WEEKEND\"), col(\"TX_DURING_NIGHT\"), col(\"TX_FRAUD\")).show()"
   ]
  },
  {
   "cell_type": "markdown",
   "id": "7733ffbf-09c2-4c90-8a96-d41539ffe0e9",
   "metadata": {},
   "source": [
    "We can see that basicly the number of fradulent transactions are the same during the days"
   ]
  },
  {
   "cell_type": "markdown",
   "id": "234ac069-106b-4749-91eb-9386d1735eed",
   "metadata": {},
   "source": [
    "### Customer spending behaviour transformations\n",
    "\n",
    "We will compute two customer spending behaviour features.\n",
    "\n",
    "The first feature will be the number of transactions that occur within a time window (Frequency). The second will be the average amount spent in these transactions (Monetary value). The time windows will be set to one, seven, and thirty days. \n",
    "\n",
    "The values is to be calculated based on day level where our transactions is on seconds level, the table below show a example of the output for the 1 day window.\n",
    "\n",
    "|CUSTOMER_ID|TX_DATETIME|TX_AMOUNT|AVG 1 DAY WIN|NBR TRX  1 DAY WIN|\n",
    "|:---|:---|:---|:---|:---|\n",
    "|0|2019-04-01 07:19:05.000|123.59|123.59|1|\n",
    "|0|2019-04-01 18:00:16.000|77.34|100.465|2|\n",
    "|0|2019-04-01 19:02:02.000|46.51|82.48|3|\n",
    "|0|2019-04-02 08:51:06.000|54.72|59.523333333|4|\n",
    "|0|2019-04-02 14:05:38.000|63.3|60.4675|5|\n",
    "|0|2019-04-02 15:13:02.000|32.35|54.844|6|\n",
    "|0|2019-04-02 15:46:51.000|13.59|47.968333333|7|\n",
    "|0|2019-04-02 20:24:47.000|51.89|43.17|8|\n",
    "|0|2019-04-03 07:41:24.000|93.26|51.518333333|6|\n",
    "\n",
    "Since we want to aggregate by day and also take include dates that has no transactions (so our windows are real days) we need to first create a new data frame that has for each customer one row for each date between the minimum transaction date and maximum transaction date. Snowpark has a function, **range** , that can be used to generate n number of rows. Since we want to generate a row for each date between minimum and maximum we need to calculate that first. Once we have that dataframe we can do a cross join with our **CUSTOMER** table to create a new dataframe that has now one row for each date between the minimum transaction date and maximum transaction date and customer, as illustrated in the image below.\n",
    "\n",
    "![Figure3](images/figure3.png)"
   ]
  },
  {
   "cell_type": "code",
   "execution_count": null,
   "id": "17c0c170-174e-4bec-8f66-e28e4af53298",
   "metadata": {},
   "outputs": [],
   "source": [
    "\n",
    "dateInfo = dfCustTrxFraud.select(min(col(\"TX_DATETIME\")).as_(\"END_DATE\"), datediff(\"DAY\", col(\"END_DATE\"), max(col(\"TX_DATETIME\"))).as_(\"NO_DAYS\")).toPandas()\n",
    "nDays = int(dateInfo['NO_DAYS'].values[0])\n",
    "dStartDate = str(dateInfo['END_DATE'].values[0].astype('datetime64[D]'))\n",
    "\n",
    "# Create a dataframe with one row for each date between the min and max transaction date\n",
    "dfDays = session.range(nDays).withColumn(\"TX_DATE\", to_date(dateadd(\"DAY\", call_builtin(\"SEQ4\"), lit(dStartDate))))\n",
    "\n",
    "# Since we aggregate by customer and day and not all customers have transactions for all dates we cross join our date dataframe with our \n",
    "# customer table so each customer witll have one row for each date\n",
    "dfCustomers = session.table(\"CUSTOMERS\").select(\"CUSTOMER_ID\")\n",
    "dfCustDay = dfDays.join(dfCustomers)"
   ]
  },
  {
   "cell_type": "code",
   "execution_count": null,
   "id": "b451c583-c9ca-4822-a9a7-b608cf2fc439",
   "metadata": {},
   "outputs": [],
   "source": [
    "dfCustDay.show()"
   ]
  },
  {
   "cell_type": "markdown",
   "id": "52d83b16-a8fc-446d-83b9-69803510f228",
   "metadata": {},
   "source": [
    "We can now use the new data frame, **dfCustDay**, to aggregate the number of transaction and transaction amount by day, for days that a customer has no transaction we will use 0. The picture below illustrates what we are doing.\n",
    "\n",
    "Earlier in the data understanding part we used **call_builtin** to use a Snowflake functions that is not exposed in the SNowpark API, we can also use **builtin** to assign the function to a variable that we then can use instead how having to write callBiltin each time.\n",
    "\n",
    "\n",
    "\n",
    "![Figure4](images/figure4.png)"
   ]
  },
  {
   "cell_type": "code",
   "execution_count": null,
   "id": "474fabdc-6b7d-470d-b9e6-bd356c24e66a",
   "metadata": {},
   "outputs": [],
   "source": [
    "zeroifnull = builtin(\"ZEROIFNULL\") # Snowpark does not expose ZEROIFNULL but we can use the callBuiltin function for that or the builtin to add it to a variable that can be used in our code\n",
    "\n",
    "dfCustTrxByDay = dfCustTrxFraud.join(dfCustDay, (dfCustTrxFraud.col(\"CUSTOMER_ID\") == dfCustDay.col(\"CUSTOMER_ID\")) & (to_date(dfCustTrxFraud.col(\"TX_DATETIME\")) == dfCustDay.col(\"TX_DATE\")), \"rightouter\") \\\n",
    "            .select(dfCustDay.col(\"CUSTOMER_ID\").as_(\"CUSTOMER_ID\"),\\\n",
    "                    dfCustDay.col(\"TX_DATE\"),\\\n",
    "                    zeroifnull(dfCustTrxFraud.col(\"TX_AMOUNT\")).as_(\"TX_AMOUNT\"),\\\n",
    "                    iff(col(\"TX_AMOUNT\") > lit(0), lit(1), lit(0)).as_(\"NO_TRX\"))\\\n",
    "                .groupBy(col(\"CUSTOMER_ID\"), col(\"TX_DATE\"))\\\n",
    "                .agg([sum(col(\"TX_AMOUNT\")).as_(\"TOT_AMOUNT\"), sum(col(\"NO_TRX\")).as_(\"NO_TRX\")])"
   ]
  },
  {
   "cell_type": "markdown",
   "id": "6673cc31-a29c-4cde-8282-8ba3f468b576",
   "metadata": {},
   "source": [
    "Now when we have the number of transactions and amount by customer and day we can aggregate by our windows (1, 7 and 30 days).\n",
    "\n",
    "For getting values previous day we will use the **lag** function since it's only one value we want and for 7 and 30 days we will use sum over a window. Since we do not want to include future values we will not include the current day in the windows.\n",
    "\n",
    "![Figure5](images/figure5.png)"
   ]
  },
  {
   "cell_type": "code",
   "execution_count": null,
   "id": "72266105-e1f2-44a4-bb4e-bde55331e576",
   "metadata": {},
   "outputs": [],
   "source": [
    "custDate = Window.partitionBy(col(\"customer_id\")).orderBy(col(\"TX_DATE\"))\n",
    "win7dCust = custDate.rowsBetween(-7, -1)\n",
    "win30dCust = custDate.rowsBetween(-30, -1)\n",
    "\n",
    "dfCustFeatDay = dfCustTrxByDay.select(col(\"TX_DATE\"),col(\"CUSTOMER_ID\"),col(\"NO_TRX\"),col(\"TOT_AMOUNT\"),\n",
    "                              lag(col(\"NO_TRX\"),1).over(custDate).as_(\"CUST_TX_PREV_1\"),\n",
    "                              sum(col(\"NO_TRX\")).over(win7dCust).as_(\"CUST_TX_PREV_7\"),\n",
    "                              sum(col(\"NO_TRX\")).over(win30dCust).as_(\"CUST_TX_PREV_30\"),\n",
    "                              lag(col(\"TOT_AMOUNT\"),1).over(custDate).as_(\"CUST_TOT_AMT_PREV_1\"),\n",
    "                              sum(col(\"TOT_AMOUNT\")).over(win7dCust).as_(\"CUST_TOT_AMT_PREV_7\"),\n",
    "                              sum(col(\"TOT_AMOUNT\")).over(win30dCust).as_(\"CUST_TOT_AMT_PREV_30\"))"
   ]
  },
  {
   "cell_type": "code",
   "execution_count": null,
   "id": "673822bc-e2a6-4d6e-a1c6-898803e4809e",
   "metadata": {},
   "outputs": [],
   "source": [
    "dfCustFeatDay.show()"
   ]
  },
  {
   "cell_type": "markdown",
   "id": "39ae0ace-e210-425d-a072-460dfc8b1491",
   "metadata": {},
   "source": [
    "Now we know for each customer and day the number of transactions and amount for previous 1, 7 and 30 days and we add that to our transactions.\n",
    "\n",
    "In this step we will also use a window function to count the number of transactions and total amount for the current date, in order to only include the previous transactions for the same date we will create a partion key that consists of transaction date and customer id. By using that we get a rolling sum of all previous rows that is for the same date and customer.\n",
    "\n",
    "![Figure6](images/figure6.png)"
   ]
  },
  {
   "cell_type": "code",
   "execution_count": null,
   "id": "238d825a-6d81-43ca-9d45-00bb310306cc",
   "metadata": {},
   "outputs": [],
   "source": [
    "winCurrDate = Window.partitionBy(col(\"PARTITION_KEY\")).orderBy(col(\"TX_DATETIME\")).rangeBetween(Window.unboundedPreceding,Window.currentRow)\n",
    "\n",
    "dfCustBehaviurFeat = dfDateTimeFeat.join(dfCustFeatDay, (dfDateTimeFeat.col(\"CUSTOMER_ID\") == dfCustFeatDay.col(\"CUSTOMER_ID\")) & \\\n",
    "                                             (to_date(dfDateTimeFeat.col(\"TX_DATETIME\")) == dfCustFeatDay.col(\"TX_DATE\")))\\\n",
    "        .withColumn(\"PARTITION_KEY\", call_builtin(\"concat\",dfDateTimeFeat.col(\"CUSTOMER_ID\"), to_date(dfDateTimeFeat.col(\"TX_DATETIME\"))))\\\n",
    "        .withColumns([\"CUR_DAY_TRX\",\\\n",
    "                         \"CUR_DAY_AMT\"],\\\n",
    "                      [count(dfDateTimeFeat.col(\"CUSTOMER_ID\")).over(winCurrDate), \\\n",
    "                      sum(dfDateTimeFeat.col(\"TX_AMOUNT\")).over(winCurrDate)])\\\n",
    "        .select(dfDateTimeFeat.col(\"TRANSACTION_ID\"), \\\n",
    "                dfDateTimeFeat.col(\"CUSTOMER_ID\").as_(\"CUSTOMER_ID\"), \\\n",
    "                dfDateTimeFeat.col(\"TERMINAL_ID\"),\\\n",
    "                dfDateTimeFeat.col(\"TX_DATETIME\").as_(\"TX_DATETIME\"), \\\n",
    "                dfDateTimeFeat.col(\"TX_AMOUNT\"),\\\n",
    "                dfDateTimeFeat.col(\"TX_TIME_SECONDS\"),\\\n",
    "                dfDateTimeFeat.col(\"TX_TIME_DAYS\"), \\\n",
    "                dfDateTimeFeat.col(\"TX_FRAUD\"),\\\n",
    "                dfDateTimeFeat.col(\"TX_FRAUD_SCENARIO\"),\\\n",
    "                dfDateTimeFeat.col(\"TX_DURING_WEEKEND\"), \\\n",
    "                dfDateTimeFeat.col(\"TX_DURING_NIGHT\"),\\\n",
    "                (zeroifnull(dfCustFeatDay.col(\"CUST_TX_PREV_1\")) + col(\"CUR_DAY_TRX\")).as_(\"CUST_CNT_TX_1\"),\\\n",
    "                (zeroifnull(dfCustFeatDay.col(\"CUST_TOT_AMT_PREV_1\")) + col(\"CUR_DAY_AMT\") / col(\"CUST_CNT_TX_1\")).as_(\"CUST_AVG_AMOUNT_1\"), \\\n",
    "                (zeroifnull(dfCustFeatDay.col(\"CUST_TX_PREV_7\")) + col(\"CUR_DAY_TRX\")).as_(\"CUST_CNT_TX_7\"),\\\n",
    "                (zeroifnull(dfCustFeatDay.col(\"CUST_TOT_AMT_PREV_7\")) + col(\"CUR_DAY_AMT\") / col(\"CUST_CNT_TX_7\")).as_(\"CUST_AVG_AMOUNT_7\"),\\\n",
    "                (zeroifnull(dfCustFeatDay.col(\"CUST_TX_PREV_30\")) + col(\"CUR_DAY_TRX\")).as_(\"CUST_CNT_TX_30\"),\\\n",
    "                (zeroifnull(dfCustFeatDay.col(\"CUST_TOT_AMT_PREV_30\")) + col(\"CUR_DAY_AMT\") / col(\"CUST_CNT_TX_30\")).as_(\"CUST_AVG_AMOUNT_30\"))\n",
    "\n"
   ]
  },
  {
   "cell_type": "code",
   "execution_count": null,
   "id": "993b4bc3-eb6f-4c82-a5a0-c8d5693b7f10",
   "metadata": {},
   "outputs": [],
   "source": [
    "dfCustBehaviurFeat.show()"
   ]
  },
  {
   "cell_type": "markdown",
   "id": "104cbf4d-1ff8-4526-a91f-4cbe0bfea43b",
   "metadata": {},
   "source": [
    "### Terminal ID transformations\n",
    "\n",
    "The main goal with the Terminal ID transformations will be to extract a risk score, that assesses the exposure of a given terminal ID to fraudulent transactions. The risk score will be defined as the average number of fraudulent transactions that occurred on a terminal ID over a time window. As for customer ID transformations, we will use three window sizes, of 1, 7, and 30 days.\n",
    "\n",
    "Contrary to customer ID transformations, the time windows will not directly precede a given transaction. Instead, they will be shifted back by a delay period. The delay period accounts for the fact that, in practice, the fraudulent transactions are only discovered after a fraud investigation or a customer complaint. Hence, the fraudulent labels, which are needed to compute the risk score, are only available after this delay period. To a first approximation, this delay period will be set to one week.\n",
    "\n",
    "Part from above the logic is rather similar to how we calculated for customer."
   ]
  },
  {
   "cell_type": "code",
   "execution_count": null,
   "id": "ec94fc44-a0de-4957-92e7-2ee1162f7b85",
   "metadata": {},
   "outputs": [],
   "source": [
    "# Since we aggregate by terminal and day and not all terminals have transactions for all dates we cross join our date dataframe with our terminal table so each terminal will have one row for each date\n",
    "dfTerminals = session.table(\"TERMINALS\").select(\"TERMINAL_ID\")\n",
    "dfTermDay = dfDays.join(dfTerminals)\n",
    "\n",
    "# Aggregate number of transactions and amount by terminal and date, for dates where a terminal do not have any ttransactions we ad a 0\n",
    "dfTermTrxByDay = dfCustTrxFraud.join(dfTermDay, (dfCustTrxFraud.col(\"TERMINAL_ID\") == dfTermDay.col(\"TERMINAL_ID\"))\\\n",
    "                    & (to_date(dfCustTrxFraud.col(\"TX_DATETIME\")) == dfTermDay.col(\"TX_DATE\")), \"rightouter\")\\\n",
    "                .select(dfTermDay.col(\"TERMINAL_ID\").as_(\"TERMINAL_ID\"),\\\n",
    "                        dfTermDay.col(\"TX_DATE\"), \\\n",
    "                        zeroifnull(dfCustTrxFraud.col(\"TX_FRAUD\")).as_(\"NB_FRAUD\"), \\\n",
    "                        when(is_null(dfCustTrxFraud.col(\"TX_FRAUD\")), lit(0)).otherwise(lit(1)).as_(\"NO_TRX\")) \\\n",
    "                .groupBy(col(\"TERMINAL_ID\"), col(\"TX_DATE\"))\\\n",
    "                .agg([sum(col(\"NB_FRAUD\")).as_(\"NB_FRAUD\"), sum(col(\"NO_TRX\")).as_(\"NO_TRX\")])\n",
    "\n",
    "# Aggregate by our windows.\n",
    "termDate = Window.partitionBy(col(\"TERMINAL_ID\")).orderBy(col(\"TX_DATE\"))\n",
    "winDelay = termDate.rowsBetween(-7, -1) \n",
    "win1dTerm = termDate.rowsBetween(-8, -1) # We need to add the Delay period to our windows\n",
    "win7dTerm = termDate.rowsBetween(-14, -1)\n",
    "win30dTerm = termDate.rowsBetween(-37, -1)\n",
    "\n",
    "dfTermFeatDay = dfTermTrxByDay.select(col(\"TX_DATE\"),col(\"TERMINAL_ID\"),col(\"NO_TRX\"),col(\"NB_FRAUD\"),\n",
    "                              sum(col(\"NB_FRAUD\")).over(winDelay).as_(\"NB_FRAUD_DELAY\"),\n",
    "                              sum(col(\"NO_TRX\")).over(winDelay).as_(\"NB_TX_DELAY\"),\n",
    "                              sum(col(\"NO_TRX\")).over(win1dTerm).as_(\"NB_TX_DELAY_WINDOW_1\"),\n",
    "                              sum(col(\"NO_TRX\")).over(win7dTerm).as_(\"NB_TX_DELAY_WINDOW_7\"),\n",
    "                              sum(col(\"NO_TRX\")).over(win30dTerm).as_(\"NB_TX_DELAY_WINDOW_30\"),\n",
    "                              sum(col(\"NB_FRAUD\")).over(win1dTerm).as_(\"NB_FRAUD_DELAY_WINDOW_1\"),\n",
    "                              sum(col(\"NB_FRAUD\")).over(win7dTerm).as_(\"NB_FRAUD_DELAY_WINDOW_7\"),\n",
    "                              sum(col(\"NB_FRAUD\")).over(win30dTerm).as_(\"NB_FRAUD_DELAY_WINDOW_30\"))\n",
    "\n",
    "dfTermBehaviurFeat = dfCustBehaviurFeat.join(dfTermFeatDay, (dfCustBehaviurFeat.col(\"TERMINAL_ID\") == dfTermFeatDay.col(\"TERMINAL_ID\")) &\\\n",
    "                                                 (to_date(dfDateTimeFeat.col(\"TX_DATETIME\")) == dfTermFeatDay.col(\"TX_DATE\")))\\\n",
    "            .withColumns([\"PARTITION_KEY\",\\\n",
    "                             \"CUR_DAY_TRX\",\\\n",
    "                             \"CUR_DAY_FRAUD\"],\\\n",
    "                         [call_builtin(\"concat\", dfDateTimeFeat.col(\"TERMINAL_ID\"), to_date(dfDateTimeFeat.col(\"TX_DATETIME\"))),\\\n",
    "                             count(dfDateTimeFeat.col(\"TERMINAL_ID\")).over(winCurrDate),\\\n",
    "                             sum(dfDateTimeFeat.col(\"TX_FRAUD\")).over(winCurrDate)]\\\n",
    "                          )\\\n",
    "             .withColumns([\"NB_TX_DELAY\", \\\n",
    "                              \"NB_FRAUD_DELAY\",\\\n",
    "                              \"NB_TX_DELAY_WINDOW_1\",\\\n",
    "                              \"NB_FRAUD_DELAY_WINDOW_1\",\\\n",
    "                              \"NB_TX_DELAY_WINDOW_7\",\\\n",
    "                              \"NB_FRAUD_DELAY_WINDOW_7\",\\\n",
    "                              \"NB_TX_DELAY_WINDOW_30\",\\\n",
    "                              \"NB_FRAUD_DELAY_WINDOW_30\"],\\\n",
    "                           [dfTermFeatDay.col(\"NB_TX_DELAY\") + col(\"CUR_DAY_TRX\"),\\\n",
    "                               col(\"NB_FRAUD_DELAY\") +  col(\"CUR_DAY_FRAUD\"),\\\n",
    "                               col(\"NB_TX_DELAY_WINDOW_1\") + col(\"CUR_DAY_TRX\"),\\\n",
    "                               col(\"NB_FRAUD_DELAY_WINDOW_1\") + col(\"CUR_DAY_FRAUD\"),\\\n",
    "                               col(\"NB_TX_DELAY_WINDOW_7\") + col(\"CUR_DAY_TRX\"),\\\n",
    "                               col(\"NB_FRAUD_DELAY_WINDOW_7\") + col(\"CUR_DAY_FRAUD\"),\\\n",
    "                               col(\"NB_TX_DELAY_WINDOW_30\") + col(\"CUR_DAY_TRX\"),\\\n",
    "                               col(\"NB_FRAUD_DELAY_WINDOW_30\") + col(\"CUR_DAY_FRAUD\")])\\\n",
    "             .select(dfCustBehaviurFeat.col(\"TRANSACTION_ID\"), \\\n",
    "                     dfCustBehaviurFeat.col(\"TX_DATETIME\").as_(\"TX_DATETIME\"),\\\n",
    "                     dfCustBehaviurFeat.col(\"CUSTOMER_ID\").as_(\"CUSTOMER_ID\"), \\\n",
    "                     dfCustBehaviurFeat.col(\"TERMINAL_ID\").as_(\"TERMINAL_ID\"),\\\n",
    "                     dfCustBehaviurFeat.col(\"TX_TIME_SECONDS\"), \\\n",
    "                     dfCustBehaviurFeat.col(\"TX_TIME_DAYS\"), \\\n",
    "                     dfCustBehaviurFeat.col(\"TX_AMOUNT\"), \\\n",
    "                     dfCustBehaviurFeat.col(\"TX_FRAUD\"), \\\n",
    "                     dfCustBehaviurFeat.col(\"TX_FRAUD_SCENARIO\"),\\\n",
    "                     dfCustBehaviurFeat.col(\"TX_DURING_WEEKEND\"), \\\n",
    "                     dfCustBehaviurFeat.col(\"TX_DURING_NIGHT\"),\\\n",
    "                     dfCustBehaviurFeat.col(\"CUST_AVG_AMOUNT_1\"),\\\n",
    "                     dfCustBehaviurFeat.col(\"CUST_CNT_TX_1\"), \\\n",
    "                     dfCustBehaviurFeat.col(\"CUST_AVG_AMOUNT_7\"),\\\n",
    "                     dfCustBehaviurFeat.col(\"CUST_CNT_TX_7\"), \\\n",
    "                     dfCustBehaviurFeat.col(\"CUST_AVG_AMOUNT_30\"),\\\n",
    "                     dfCustBehaviurFeat.col(\"CUST_CNT_TX_30\"),\\\n",
    "                     (col(\"NB_TX_DELAY_WINDOW_1\") - col(\"NB_TX_DELAY\")).as_(\"NB_TX_WINDOW_1\"),\\\n",
    "                     iff(col(\"NB_FRAUD_DELAY_WINDOW_1\") - col(\"NB_FRAUD_DELAY\") > 0, \\\n",
    "                             (col(\"NB_FRAUD_DELAY_WINDOW_1\") - col(\"NB_FRAUD_DELAY\")) / col(\"NB_TX_WINDOW_1\"), lit(0)).as_(\"TERM_RISK_1\"),\\\n",
    "                     (col(\"NB_TX_DELAY_WINDOW_7\") - col(\"NB_TX_DELAY\")).as_(\"NB_TX_WINDOW_7\"),\\\n",
    "                     iff(col(\"NB_FRAUD_DELAY_WINDOW_7\") - col(\"NB_FRAUD_DELAY\") > 0, \\\n",
    "                             (col(\"NB_FRAUD_DELAY_WINDOW_7\") - col(\"NB_FRAUD_DELAY\"))  / col(\"NB_TX_WINDOW_7\"), lit(0)).as_(\"TERM_RISK_7\"),\\\n",
    "                     (col(\"NB_TX_DELAY_WINDOW_30\") - col(\"NB_TX_DELAY\")).as_(\"NB_TX_WINDOW_30\"),\\\n",
    "                     iff(col(\"NB_FRAUD_DELAY_WINDOW_30\") - col(\"NB_FRAUD_DELAY\") > 0, \\\n",
    "                             (col(\"NB_FRAUD_DELAY_WINDOW_30\") - col(\"NB_FRAUD_DELAY\"))  / col(\"NB_TX_WINDOW_30\"), lit(0)).as_(\"TERM_RISK_30\"))"
   ]
  },
  {
   "cell_type": "markdown",
   "id": "7c1528a7-dab8-4d87-9288-d2b52fe9804a",
   "metadata": {},
   "source": [
    "We now have our new features and can save it into a new table that we then can use for traing our model for predicting fraud.\n",
    "\n",
    "Start by checking the schema of our new dataframe and decide if we will keep all columns."
   ]
  },
  {
   "cell_type": "code",
   "execution_count": null,
   "id": "62abece7-8aa4-45f7-92b5-9c7ee514d5c3",
   "metadata": {},
   "outputs": [],
   "source": [
    "dfTermBehaviurFeat.schema"
   ]
  },
  {
   "cell_type": "markdown",
   "id": "7b4d1c39-5e57-4597-b858-11c74a168c28",
   "metadata": {},
   "source": [
    "As mentioned we are not actually executing anything in Snowflake, unless when using .show(), and has just created a execution plan.\n",
    "\n",
    "We can get the execution plan and SQL needed to prefrom all our steps by calling **explain**"
   ]
  },
  {
   "cell_type": "code",
   "execution_count": null,
   "id": "65054274-99f9-421d-9ba6-6f15b50108d9",
   "metadata": {},
   "outputs": [],
   "source": [
    "dfTermBehaviurFeat.explain()"
   ]
  },
  {
   "cell_type": "markdown",
   "id": "18669d28-08ec-419e-98a5-be24038ccae5",
   "metadata": {},
   "source": [
    "We can quicly scale up our Warhouse (compute) before we load our new table and after we done the load we can scale it down again.\n",
    "\n",
    "By creating a function for it we can simplify the code and make it easier for the developers."
   ]
  },
  {
   "cell_type": "code",
   "execution_count": null,
   "id": "a1d051b5-0829-472c-8492-a23eb4533f5e",
   "metadata": {},
   "outputs": [],
   "source": [
    "def scaleWh(sess, wh, size):\n",
    "    if (len(wh) == 0): \n",
    "        return false\n",
    "    if (len(size) == 0):\n",
    "        return false\n",
    "   \n",
    "    alterSQL = \"ALTER WAREHOUSE \" + wh + \" SET WAREHOUSE_SIZE = \" + size\n",
    "    sess.sql(alterSQL).collect()\n",
    "    return True\n"
   ]
  },
  {
   "cell_type": "code",
   "execution_count": null,
   "id": "db21b879-c099-4a17-8836-26a2e5f98fb1",
   "metadata": {},
   "outputs": [],
   "source": [
    "scaleWh(session, \"COMPUTE_WH\", \"LARGE\")"
   ]
  },
  {
   "cell_type": "markdown",
   "id": "bd1c007f-0623-4505-891d-d645ba93f12c",
   "metadata": {},
   "source": [
    "We we run **saveAsTable** Snowpark will generate the SQL for all the previous step, execute it in Snowflake and store the result in the table **customer_trx_fraud_features**."
   ]
  },
  {
   "cell_type": "code",
   "execution_count": null,
   "id": "d6f3aa46-4bdf-4f4f-9897-16a1644be874",
   "metadata": {},
   "outputs": [],
   "source": [
    "dfTermBehaviurFeat.write.mode(\"overwrite\").saveAsTable(\"customer_trx_fraud_features\")"
   ]
  },
  {
   "cell_type": "code",
   "execution_count": null,
   "id": "43d1ee06-f6a4-4f4a-aa53-8507fb658642",
   "metadata": {},
   "outputs": [],
   "source": [
    "scaleWh(session, \"COMPUTE_WH\", \"SMALL\")"
   ]
  },
  {
   "cell_type": "code",
   "execution_count": null,
   "id": "2c3041a5-ea38-40c0-85d1-30f86aa608a4",
   "metadata": {},
   "outputs": [],
   "source": []
  }
 ],
 "metadata": {
  "kernelspec": {
   "display_name": "Python 3 (ipykernel)",
   "language": "python",
   "name": "python3"
  },
  "language_info": {
   "codemirror_mode": {
    "name": "ipython",
    "version": 3
   },
   "file_extension": ".py",
   "mimetype": "text/x-python",
   "name": "python",
   "nbconvert_exporter": "python",
   "pygments_lexer": "ipython3",
   "version": "3.8.12"
  }
 },
 "nbformat": 4,
 "nbformat_minor": 5
}
